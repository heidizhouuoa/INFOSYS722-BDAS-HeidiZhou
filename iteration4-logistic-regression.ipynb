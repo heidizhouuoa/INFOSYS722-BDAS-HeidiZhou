{
 "cells": [
  {
   "cell_type": "code",
   "execution_count": 1,
   "metadata": {},
   "outputs": [],
   "source": [
    "# Initialise the app\n",
    "import findspark\n",
    "findspark.init('/home/ubuntu/spark-2.1.1-bin-hadoop2.7')\n",
    "import pyspark\n",
    "from pyspark.sql import *\n",
    "spark = SparkSession.builder.appName('iteration4-data-mining').getOrCreate()"
   ]
  },
  {
   "cell_type": "code",
   "execution_count": 2,
   "metadata": {},
   "outputs": [
    {
     "name": "stdout",
     "output_type": "stream",
     "text": [
      "+------------------+--------------------+----------------+------+--------------+--------------------+----------------------------+\n",
      "|collision_severity|            lighting|alcohol_involved|season|party_sobriety|       cellphone_use|movement_preceding_collision|\n",
      "+------------------+--------------------+----------------+------+--------------+--------------------+----------------------------+\n",
      "|             fatal|dark with street ...|           false|winter|             A|Cell Phone Not in...|            making left turn|\n",
      "|             fatal|            daylight|            true|winter|             H|Cell Phone Not in...|                      parked|\n",
      "|             fatal|            daylight|            true|winter|             C|Cell Phone Not in...|         proceeding straight|\n",
      "|             fatal|            daylight|           false|winter|             A|Cell Phone Not in...|         proceeding straight|\n",
      "|             fatal|            daylight|           false|winter|             G|Cell Phone Not in...|        crossed into oppo...|\n",
      "|             fatal|dark with street ...|            true|winter|             A|Cell Phone Not in...|         proceeding straight|\n",
      "|             fatal|dark with street ...|            true|winter|             B|Cell Phone Not in...|                       other|\n",
      "|             fatal|dark with no stre...|           false|winter|             A|Cell Phone Not in...|        crossed into oppo...|\n",
      "|             fatal|            daylight|           false|winter|             G|Cell Phone Not in...|                ran off road|\n",
      "|             fatal|        dusk or dawn|           false|winter|             A|Cell Phone Not in...|         proceeding straight|\n",
      "|             fatal|dark with no stre...|           false|winter|             G|Cell Phone Not in...|         proceeding straight|\n",
      "|             fatal|dark with street ...|           false|winter|             A|No Cellphone/Unknown|                     stopped|\n",
      "|             fatal|dark with street ...|           false|winter|             G|No Cellphone/Unknown|        other unsafe turning|\n",
      "|             fatal|            daylight|            true|winter|             B|Cell Phone Not in...|                       other|\n",
      "|             fatal|        dusk or dawn|           false|winter|             G|Cell Phone Not in...|         proceeding straight|\n",
      "|             fatal|        dusk or dawn|           false|winter|             A|Cell Phone Not in...|                       other|\n",
      "|             fatal|dark with street ...|            true|winter|             C|Cell Phone Not in...|         proceeding straight|\n",
      "|             fatal|dark with street ...|            true|winter|             A|Cell Phone Not in...|            entering traffic|\n",
      "|             fatal|            daylight|           false|spring|             A|Cell Phone Not in...|            slowing/stopping|\n",
      "|             fatal|            daylight|           false|spring|             G|Cell Phone Not in...|         proceeding straight|\n",
      "+------------------+--------------------+----------------+------+--------------+--------------------+----------------------------+\n",
      "only showing top 20 rows\n",
      "\n"
     ]
    }
   ],
   "source": [
    "final_table = spark.read.csv('./final_table.csv', header='true')\n",
    "final_table.show()"
   ]
  },
  {
   "cell_type": "code",
   "execution_count": 3,
   "metadata": {},
   "outputs": [],
   "source": [
    "from pyspark.sql.types import BooleanType\n",
    "final_table = final_table.withColumn(\"alcohol_involved\",final_table.alcohol_involved.cast(BooleanType()))"
   ]
  },
  {
   "cell_type": "code",
   "execution_count": 4,
   "metadata": {},
   "outputs": [
    {
     "name": "stdout",
     "output_type": "stream",
     "text": [
      "root\n",
      " |-- collision_severity: string (nullable = true)\n",
      " |-- lighting: string (nullable = true)\n",
      " |-- alcohol_involved: boolean (nullable = true)\n",
      " |-- season: string (nullable = true)\n",
      " |-- party_sobriety: string (nullable = true)\n",
      " |-- cellphone_use: string (nullable = true)\n",
      " |-- movement_preceding_collision: string (nullable = true)\n",
      "\n"
     ]
    }
   ],
   "source": [
    "final_table.printSchema()"
   ]
  },
  {
   "cell_type": "code",
   "execution_count": 5,
   "metadata": {},
   "outputs": [],
   "source": [
    "from pyspark.ml.feature import (VectorAssembler,VectorIndexer,\n",
    "                                OneHotEncoder,StringIndexer)"
   ]
  },
  {
   "cell_type": "code",
   "execution_count": 6,
   "metadata": {},
   "outputs": [],
   "source": [
    "#target variable\n",
    "collision_severity_index = StringIndexer(inputCol='collision_severity', outputCol='collision_severity_index')\n",
    "test = collision_severity_index.fit(final_table).transform(final_table)\n",
    "test = test.drop('collision_severity')\n",
    "\n",
    "\n",
    "#independent variables\n",
    "lighting_index = StringIndexer(inputCol='lighting', outputCol='lighting_index')\n",
    "lighting_encoder = OneHotEncoder(inputCol='lighting_index', outputCol='lighting_vec')\n",
    "\n",
    "season_index = StringIndexer(inputCol='season', outputCol='season_index')\n",
    "season_encoder = OneHotEncoder(inputCol='season_index', outputCol='season_vec')\n",
    "\n",
    "party_sobriety_index = StringIndexer(inputCol='party_sobriety', outputCol='party_sobriety_index')\n",
    "party_sobriety_encoder = OneHotEncoder(inputCol='party_sobriety_index', outputCol='party_sobriety_vec')\n",
    "\n",
    "cellphone_use_index = StringIndexer(inputCol='cellphone_use', outputCol='cellphone_use_index')\n",
    "cellphone_use_encoder = OneHotEncoder(inputCol='cellphone_use_index', outputCol='cellphone_use_vec')\n",
    "\n",
    "movement_preceding_collision_index = StringIndexer(inputCol='movement_preceding_collision', outputCol='movement_preceding_collision_index')\n",
    "movement_preceding_collision_encoder = OneHotEncoder(inputCol='movement_preceding_collision_index', outputCol='movement_preceding_collision_vec')\n"
   ]
  },
  {
   "cell_type": "code",
   "execution_count": 7,
   "metadata": {},
   "outputs": [],
   "source": [
    "assembler = VectorAssembler(inputCols=[\n",
    " 'lighting_vec',\n",
    " 'season_vec',\n",
    " 'party_sobriety_vec',\n",
    "'cellphone_use_vec', \n",
    "'movement_preceding_collision_vec'],outputCol='features')"
   ]
  },
  {
   "cell_type": "code",
   "execution_count": 8,
   "metadata": {},
   "outputs": [],
   "source": [
    "from pyspark.ml.classification import LogisticRegression\n",
    "from pyspark.ml import Pipeline\n",
    "log_reg_collision = LogisticRegression(featuresCol='features',labelCol='collision_severity_index')"
   ]
  },
  {
   "cell_type": "code",
   "execution_count": 9,
   "metadata": {},
   "outputs": [],
   "source": [
    "pipeline = Pipeline(stages = [lighting_index, season_index, party_sobriety_index,\n",
    "                            cellphone_use_index, movement_preceding_collision_index,\n",
    "                           lighting_encoder, season_encoder,party_sobriety_encoder,\n",
    "                            cellphone_use_encoder, movement_preceding_collision_encoder, \n",
    "                            assembler, log_reg_collision])"
   ]
  },
  {
   "cell_type": "code",
   "execution_count": 10,
   "metadata": {},
   "outputs": [
    {
     "name": "stdout",
     "output_type": "stream",
     "text": [
      "Training Dataset Count: 100917\n",
      "Test Dataset Count: 25191\n"
     ]
    }
   ],
   "source": [
    "train_data, test_data = test.randomSplit([0.8,0.2])\n",
    "print(\"Training Dataset Count: \" + str(train_data.count()))\n",
    "print(\"Test Dataset Count: \" + str(test_data.count()))"
   ]
  },
  {
   "cell_type": "code",
   "execution_count": 11,
   "metadata": {},
   "outputs": [],
   "source": [
    "fit_model = pipeline.fit(train_data)"
   ]
  },
  {
   "cell_type": "code",
   "execution_count": 12,
   "metadata": {},
   "outputs": [],
   "source": [
    "# Transform test data. \n",
    "results = fit_model.transform(test_data)"
   ]
  },
  {
   "cell_type": "code",
   "execution_count": 13,
   "metadata": {},
   "outputs": [],
   "source": [
    "from pyspark.ml.evaluation import MulticlassClassificationEvaluator\n",
    "acc_evaluator = MulticlassClassificationEvaluator(labelCol=\"collision_severity_index\", predictionCol=\"prediction\", metricName=\"accuracy\")"
   ]
  },
  {
   "cell_type": "code",
   "execution_count": 14,
   "metadata": {},
   "outputs": [
    {
     "name": "stdout",
     "output_type": "stream",
     "text": [
      "+------------------------+----------+\n",
      "|collision_severity_index|prediction|\n",
      "+------------------------+----------+\n",
      "|                     1.0|       1.0|\n",
      "|                     2.0|       1.0|\n",
      "|                     0.0|       0.0|\n",
      "|                     0.0|       0.0|\n",
      "|                     0.0|       0.0|\n",
      "|                     0.0|       0.0|\n",
      "|                     0.0|       0.0|\n",
      "|                     0.0|       0.0|\n",
      "|                     0.0|       0.0|\n",
      "|                     0.0|       0.0|\n",
      "|                     0.0|       0.0|\n",
      "|                     0.0|       0.0|\n",
      "|                     0.0|       0.0|\n",
      "|                     0.0|       0.0|\n",
      "|                     0.0|       0.0|\n",
      "|                     0.0|       0.0|\n",
      "|                     0.0|       0.0|\n",
      "|                     0.0|       0.0|\n",
      "|                     0.0|       0.0|\n",
      "|                     0.0|       0.0|\n",
      "+------------------------+----------+\n",
      "only showing top 20 rows\n",
      "\n"
     ]
    }
   ],
   "source": [
    "results.select('collision_severity_index','prediction').show()"
   ]
  },
  {
   "cell_type": "code",
   "execution_count": 15,
   "metadata": {},
   "outputs": [
    {
     "data": {
      "text/plain": [
       "0.6427295462665238"
      ]
     },
     "execution_count": 15,
     "metadata": {},
     "output_type": "execute_result"
    }
   ],
   "source": [
    "# We can then evaluate using AUC (area under the curve). AUC is linked to ROC.\n",
    "AUC = acc_evaluator.evaluate(results)\n",
    "\n",
    "AUC"
   ]
  },
  {
   "cell_type": "code",
   "execution_count": 16,
   "metadata": {
    "scrolled": true
   },
   "outputs": [
    {
     "name": "stdout",
     "output_type": "stream",
     "text": [
      "Correct: 25191\n",
      "Total Correct: 16191\n",
      "Total Wrong: 9000\n",
      "Correct Ratio: 0.6427295462665238\n",
      "Wrong Ratio: 0.35727045373347627\n"
     ]
    }
   ],
   "source": [
    "totalResults = results.select('collision_severity_index','prediction')\n",
    "\n",
    "correctResults = totalResults.filter(totalResults['collision_severity_index'] == totalResults['prediction'])\n",
    "\n",
    "wrongResults = totalResults.filter(totalResults['collision_severity_index'] != totalResults['prediction'])\n",
    "\n",
    "countTR = totalResults.count()\n",
    "print(\"Correct: \" + str(countTR))\n",
    "\n",
    "countTC = correctResults.count()\n",
    "print(\"Total Correct: \" + str(countTC))\n",
    "\n",
    "countTW = wrongResults.count()\n",
    "print(\"Total Wrong: \" + str(countTW))\n",
    "\n",
    "ratioCorrect = countTC / countTR\n",
    "print(\"Correct Ratio: \" + str(ratioCorrect))\n",
    "\n",
    "ratioWrong = countTW / countTR\n",
    "print(\"Wrong Ratio: \" + str(ratioWrong))"
   ]
  },
  {
   "cell_type": "code",
   "execution_count": 19,
   "metadata": {},
   "outputs": [
    {
     "data": {
      "text/plain": [
       "Text(0.5,1,'collision_severity_index vs prediction with one-hot')"
      ]
     },
     "execution_count": 19,
     "metadata": {},
     "output_type": "execute_result"
    },
    {
     "data": {
      "image/png": "[encoded data removed]",
      "text/plain": [
       "<Figure size 432x288 with 1 Axes>"
      ]
     },
     "metadata": {},
     "output_type": "display_data"
    }
   ],
   "source": [
    "import numpy as np # linear algebra\n",
    "import pandas as pd # data processing\n",
    "import matplotlib.pyplot as plt\n",
    "\n",
    "result_pandas=results.toPandas()\n",
    "plt.scatter(result_pandas['collision_severity_index'], result_pandas['prediction'],cmap='viridis',alpha=0.3);\n",
    "m, b = np.polyfit(result_pandas['collision_severity_index'], result_pandas['prediction'], 1)\n",
    "plt.plot(result_pandas['collision_severity_index'], m*result_pandas['collision_severity_index'] + b)\n",
    "plt.xlabel('collision_severity_index') \n",
    "plt.ylabel('prediction') \n",
    "plt.title(\"collision_severity_index vs prediction with one-hot\")"
   ]
  },
  {
   "cell_type": "code",
   "execution_count": 20,
   "metadata": {},
   "outputs": [],
   "source": [
    "pipeline2 = Pipeline(stages = [lighting_index, season_index, party_sobriety_index,\n",
    "                            cellphone_use_index, movement_preceding_collision_index,\n",
    "                           lighting_encoder, season_encoder,party_sobriety_encoder,\n",
    "                            cellphone_use_encoder, movement_preceding_collision_encoder, \n",
    "                            assembler, log_reg_collision])"
   ]
  },
  {
   "cell_type": "code",
   "execution_count": 21,
   "metadata": {},
   "outputs": [
    {
     "name": "stdout",
     "output_type": "stream",
     "text": [
      "Training Dataset Count: 100790\n",
      "Test Dataset Count: 25318\n"
     ]
    }
   ],
   "source": [
    "train_data2, test_data2 = test.randomSplit([0.8,0.2])\n",
    "print(\"Training Dataset Count: \" + str(train_data2.count()))\n",
    "print(\"Test Dataset Count: \" + str(test_data2.count()))"
   ]
  },
  {
   "cell_type": "code",
   "execution_count": 22,
   "metadata": {},
   "outputs": [],
   "source": [
    "fit_model2 = pipeline2.fit(train_data)\n",
    "results2 = fit_model2.transform(test_data)"
   ]
  },
  {
   "cell_type": "code",
   "execution_count": 23,
   "metadata": {},
   "outputs": [
    {
     "data": {
      "text/plain": [
       "Text(0.5,1,'collision_severity_index vs prediction without one-hot')"
      ]
     },
     "execution_count": 23,
     "metadata": {},
     "output_type": "execute_result"
    },
    {
     "data": {
      "image/png": "[encoded data removed]",
      "text/plain": [
       "<Figure size 432x288 with 1 Axes>"
      ]
     },
     "metadata": {},
     "output_type": "display_data"
    }
   ],
   "source": [
    "import numpy as np # linear algebra\n",
    "import pandas as pd # data processing\n",
    "import matplotlib.pyplot as plt\n",
    "\n",
    "result_pandas2=results2.toPandas()\n",
    "plt.scatter(result_pandas2['collision_severity_index'], result_pandas2['prediction'],cmap='viridis',alpha=0.3);\n",
    "m, b = np.polyfit(result_pandas2['collision_severity_index'], result_pandas2['prediction'], 1)\n",
    "plt.plot(result_pandas2['collision_severity_index'], m*result_pandas2['collision_severity_index'] + b)\n",
    "plt.xlabel('collision_severity_index') \n",
    "plt.ylabel('prediction') \n",
    "plt.title(\"collision_severity_index vs prediction without one-hot\")"
   ]
  },
  {
   "cell_type": "code",
   "execution_count": null,
   "metadata": {},
   "outputs": [],
   "source": []
  }
 ],
 "metadata": {
  "kernelspec": {
   "display_name": "Python 3",
   "language": "python",
   "name": "python3"
  },
  "language_info": {
   "codemirror_mode": {
    "name": "ipython",
    "version": 3
   },
   "file_extension": ".py",
   "mimetype": "text/x-python",
   "name": "python",
   "nbconvert_exporter": "python",
   "pygments_lexer": "ipython3",
   "version": "3.5.2"
  }
 },
 "nbformat": 4,
 "nbformat_minor": 2
}
