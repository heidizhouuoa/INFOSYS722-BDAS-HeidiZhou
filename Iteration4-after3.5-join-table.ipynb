{
 "cells": [
  {
   "cell_type": "code",
   "execution_count": 1,
   "metadata": {},
   "outputs": [],
   "source": [
    "# Initialise the app\n",
    "import findspark\n",
    "findspark.init('/home/ubuntu/spark-2.1.1-bin-hadoop2.7')\n",
    "import pyspark\n",
    "from pyspark.sql import *\n",
    "spark = SparkSession.builder.appName('iteration4-after-join-table').getOrCreate()"
   ]
  },
  {
   "cell_type": "code",
   "execution_count": 2,
   "metadata": {},
   "outputs": [
    {
     "name": "stdout",
     "output_type": "stream",
     "text": [
      "+-------+---------+------------------+--------------+----------------+--------------------+----------------+--------------+-------------------+-----+------+-------+--------------+--------------------+----------------------------+\n",
      "|case_id|weather_1|collision_severity|killed_victims|road_condition_1|            lighting|alcohol_involved|collision_date|     formatted_date|month|season|     id|party_sobriety|       cellphone_use|movement_preceding_collision|\n",
      "+-------+---------+------------------+--------------+----------------+--------------------+----------------+--------------+-------------------+-----+------+-------+--------------+--------------------+----------------------------+\n",
      "|6292121|   cloudy|             fatal|             1|          normal|dark with street ...|               0|    18/01/2015|2015-01-18 00:00:00|    1|winter|4734135|             A|Cell Phone Not in...|            making left turn|\n",
      "|6292127|    clear|             fatal|             1|          normal|            daylight|               1|    18/02/2015|2015-02-18 00:00:00|    2|winter|4734145|             H|Cell Phone Not in...|                      parked|\n",
      "|6292127|    clear|             fatal|             1|          normal|            daylight|               1|    18/02/2015|2015-02-18 00:00:00|    2|winter|4734144|             C|Cell Phone Not in...|         proceeding straight|\n",
      "|6292128|    clear|             fatal|             1|          normal|            daylight|               0|    19/02/2015|2015-02-19 00:00:00|    2|winter|4734147|             A|Cell Phone Not in...|         proceeding straight|\n",
      "|6292128|    clear|             fatal|             1|          normal|            daylight|               0|    19/02/2015|2015-02-19 00:00:00|    2|winter|4734146|             G|Cell Phone Not in...|        crossed into oppo...|\n",
      "|6292133|   cloudy|             fatal|             1|    construction|dark with street ...|               1|    20/02/2015|2015-02-20 00:00:00|    2|winter|4734153|             A|Cell Phone Not in...|         proceeding straight|\n",
      "|6292133|   cloudy|             fatal|             1|    construction|dark with street ...|               1|    20/02/2015|2015-02-20 00:00:00|    2|winter|4734152|             B|Cell Phone Not in...|                       other|\n",
      "|6292134|    clear|             fatal|             1|          normal|dark with no stre...|               0|    20/02/2015|2015-02-20 00:00:00|    2|winter|4734154|             A|Cell Phone Not in...|        crossed into oppo...|\n",
      "|6292140|    clear|             fatal|             1|          normal|            daylight|               0|    23/02/2015|2015-02-23 00:00:00|    2|winter|4734165|             G|Cell Phone Not in...|                ran off road|\n",
      "|6292141|    clear|             fatal|             1|          normal|        dusk or dawn|               0|    24/02/2015|2015-02-24 00:00:00|    2|winter|4734166|             A|Cell Phone Not in...|         proceeding straight|\n",
      "|6292148|    clear|             fatal|             1|          normal|dark with no stre...|               0|    28/02/2015|2015-02-28 00:00:00|    2|winter|4734178|             G|Cell Phone Not in...|         proceeding straight|\n",
      "|6292149|    clear|             fatal|             1|          normal|dark with street ...|               0|     1/02/2015|2015-02-01 00:00:00|    2|winter|4734180|             A|No Cellphone/Unknown|                     stopped|\n",
      "|6292149|    clear|             fatal|             1|          normal|dark with street ...|               0|     1/02/2015|2015-02-01 00:00:00|    2|winter|4734179|             G|No Cellphone/Unknown|        other unsafe turning|\n",
      "|6292153|    clear|             fatal|             1|          normal|            daylight|               1|    15/02/2015|2015-02-15 00:00:00|    2|winter|4734185|             B|Cell Phone Not in...|                       other|\n",
      "|6292157|    clear|             fatal|             1|          normal|        dusk or dawn|               0|    20/02/2015|2015-02-20 00:00:00|    2|winter|4734193|             G|Cell Phone Not in...|         proceeding straight|\n",
      "|6292157|    clear|             fatal|             1|          normal|        dusk or dawn|               0|    20/02/2015|2015-02-20 00:00:00|    2|winter|4734192|             A|Cell Phone Not in...|                       other|\n",
      "|6292165|    clear|             fatal|             1|          normal|dark with street ...|               1|    20/02/2015|2015-02-20 00:00:00|    2|winter|4734209|             C|Cell Phone Not in...|         proceeding straight|\n",
      "|6292165|    clear|             fatal|             1|          normal|dark with street ...|               1|    20/02/2015|2015-02-20 00:00:00|    2|winter|4734208|             A|Cell Phone Not in...|            entering traffic|\n",
      "|6292175|    clear|             fatal|             1|          normal|            daylight|               0|    18/03/2015|2015-03-18 00:00:00|    3|spring|4734223|             A|Cell Phone Not in...|            slowing/stopping|\n",
      "|6292175|    clear|             fatal|             1|          normal|            daylight|               0|    18/03/2015|2015-03-18 00:00:00|    3|spring|4734222|             G|Cell Phone Not in...|         proceeding straight|\n",
      "+-------+---------+------------------+--------------+----------------+--------------------+----------------+--------------+-------------------+-----+------+-------+--------------+--------------------+----------------------------+\n",
      "only showing top 20 rows\n",
      "\n"
     ]
    }
   ],
   "source": [
    "join_table = spark.read.csv('./join_table.csv', header='true')\n",
    "join_table.show()"
   ]
  },
  {
   "cell_type": "markdown",
   "metadata": {},
   "source": [
    "## 3.5 Format the data as required"
   ]
  },
  {
   "cell_type": "code",
   "execution_count": 3,
   "metadata": {},
   "outputs": [
    {
     "name": "stdout",
     "output_type": "stream",
     "text": [
      "+---------+------------------+--------------+----------------+--------------------+----------------+------+--------------+--------------------+----------------------------+\n",
      "|weather_1|collision_severity|killed_victims|road_condition_1|            lighting|alcohol_involved|season|party_sobriety|       cellphone_use|movement_preceding_collision|\n",
      "+---------+------------------+--------------+----------------+--------------------+----------------+------+--------------+--------------------+----------------------------+\n",
      "|   cloudy|             fatal|             1|          normal|dark with street ...|               0|winter|             A|Cell Phone Not in...|            making left turn|\n",
      "|    clear|             fatal|             1|          normal|            daylight|               1|winter|             H|Cell Phone Not in...|                      parked|\n",
      "|    clear|             fatal|             1|          normal|            daylight|               1|winter|             C|Cell Phone Not in...|         proceeding straight|\n",
      "|    clear|             fatal|             1|          normal|            daylight|               0|winter|             A|Cell Phone Not in...|         proceeding straight|\n",
      "|    clear|             fatal|             1|          normal|            daylight|               0|winter|             G|Cell Phone Not in...|        crossed into oppo...|\n",
      "|   cloudy|             fatal|             1|    construction|dark with street ...|               1|winter|             A|Cell Phone Not in...|         proceeding straight|\n",
      "|   cloudy|             fatal|             1|    construction|dark with street ...|               1|winter|             B|Cell Phone Not in...|                       other|\n",
      "|    clear|             fatal|             1|          normal|dark with no stre...|               0|winter|             A|Cell Phone Not in...|        crossed into oppo...|\n",
      "|    clear|             fatal|             1|          normal|            daylight|               0|winter|             G|Cell Phone Not in...|                ran off road|\n",
      "|    clear|             fatal|             1|          normal|        dusk or dawn|               0|winter|             A|Cell Phone Not in...|         proceeding straight|\n",
      "|    clear|             fatal|             1|          normal|dark with no stre...|               0|winter|             G|Cell Phone Not in...|         proceeding straight|\n",
      "|    clear|             fatal|             1|          normal|dark with street ...|               0|winter|             A|No Cellphone/Unknown|                     stopped|\n",
      "|    clear|             fatal|             1|          normal|dark with street ...|               0|winter|             G|No Cellphone/Unknown|        other unsafe turning|\n",
      "|    clear|             fatal|             1|          normal|            daylight|               1|winter|             B|Cell Phone Not in...|                       other|\n",
      "|    clear|             fatal|             1|          normal|        dusk or dawn|               0|winter|             G|Cell Phone Not in...|         proceeding straight|\n",
      "|    clear|             fatal|             1|          normal|        dusk or dawn|               0|winter|             A|Cell Phone Not in...|                       other|\n",
      "|    clear|             fatal|             1|          normal|dark with street ...|               1|winter|             C|Cell Phone Not in...|         proceeding straight|\n",
      "|    clear|             fatal|             1|          normal|dark with street ...|               1|winter|             A|Cell Phone Not in...|            entering traffic|\n",
      "|    clear|             fatal|             1|          normal|            daylight|               0|spring|             A|Cell Phone Not in...|            slowing/stopping|\n",
      "|    clear|             fatal|             1|          normal|            daylight|               0|spring|             G|Cell Phone Not in...|         proceeding straight|\n",
      "+---------+------------------+--------------+----------------+--------------------+----------------+------+--------------+--------------------+----------------------------+\n",
      "only showing top 20 rows\n",
      "\n"
     ]
    }
   ],
   "source": [
    "#Exclude data from the join table\n",
    "columns_to_drop = ['id','case_id',\"collision_date\",\"formatted_date\",\"month\"]\n",
    "join_table = join_table.drop(*columns_to_drop)\n",
    "join_table.show()"
   ]
  },
  {
   "cell_type": "code",
   "execution_count": 4,
   "metadata": {},
   "outputs": [
    {
     "name": "stdout",
     "output_type": "stream",
     "text": [
      "126108\n",
      "10\n"
     ]
    }
   ],
   "source": [
    "print(str(join_table.count()))\n",
    "print(str(len(join_table.columns)))"
   ]
  },
  {
   "cell_type": "code",
   "execution_count": 5,
   "metadata": {},
   "outputs": [
    {
     "name": "stdout",
     "output_type": "stream",
     "text": [
      "root\n",
      " |-- weather_1: string (nullable = true)\n",
      " |-- collision_severity: string (nullable = true)\n",
      " |-- killed_victims: string (nullable = true)\n",
      " |-- road_condition_1: string (nullable = true)\n",
      " |-- lighting: string (nullable = true)\n",
      " |-- alcohol_involved: string (nullable = true)\n",
      " |-- season: string (nullable = true)\n",
      " |-- party_sobriety: string (nullable = true)\n",
      " |-- cellphone_use: string (nullable = true)\n",
      " |-- movement_preceding_collision: string (nullable = true)\n",
      "\n"
     ]
    }
   ],
   "source": [
    "join_table.printSchema()"
   ]
  },
  {
   "cell_type": "code",
   "execution_count": 6,
   "metadata": {},
   "outputs": [],
   "source": [
    "from pyspark.sql.types import IntegerType, BooleanType\n",
    "join_table = join_table.withColumn(\"alcohol_involved\",join_table.alcohol_involved.cast(BooleanType()))\n",
    "join_table = join_table.withColumn(\"killed_victims\",join_table.killed_victims.cast(IntegerType()))"
   ]
  },
  {
   "cell_type": "code",
   "execution_count": 7,
   "metadata": {},
   "outputs": [
    {
     "name": "stdout",
     "output_type": "stream",
     "text": [
      "root\n",
      " |-- weather_1: string (nullable = true)\n",
      " |-- collision_severity: string (nullable = true)\n",
      " |-- killed_victims: integer (nullable = true)\n",
      " |-- road_condition_1: string (nullable = true)\n",
      " |-- lighting: string (nullable = true)\n",
      " |-- alcohol_involved: boolean (nullable = true)\n",
      " |-- season: string (nullable = true)\n",
      " |-- party_sobriety: string (nullable = true)\n",
      " |-- cellphone_use: string (nullable = true)\n",
      " |-- movement_preceding_collision: string (nullable = true)\n",
      "\n"
     ]
    }
   ],
   "source": [
    "join_table.printSchema()"
   ]
  },
  {
   "cell_type": "markdown",
   "metadata": {},
   "source": [
    "# 4. Data Transformation\n",
    "## 4.1 Reduce the data"
   ]
  },
  {
   "cell_type": "code",
   "execution_count": 8,
   "metadata": {},
   "outputs": [
    {
     "name": "stdout",
     "output_type": "stream",
     "text": [
      "+-------------------------------------------------------------+-----+\n",
      "|features                                                     |label|\n",
      "+-------------------------------------------------------------+-----+\n",
      "|(46,[1,6,7,15,22,27,30],[1.0,1.0,1.0,1.0,1.0,1.0,1.0])       |4.0  |\n",
      "|(46,[0,6,7,14,18,24,27,35],[1.0,1.0,1.0,1.0,1.0,1.0,1.0,1.0])|4.0  |\n",
      "|(46,[0,6,7,14,18,26,27,29],[1.0,1.0,1.0,1.0,1.0,1.0,1.0,1.0])|4.0  |\n",
      "|(46,[0,6,7,14,22,27,29],[1.0,1.0,1.0,1.0,1.0,1.0,1.0])       |4.0  |\n",
      "|(46,[0,6,7,14,23,27,42],[1.0,1.0,1.0,1.0,1.0,1.0,1.0])       |4.0  |\n",
      "|(46,[1,6,8,15,18,22,27,29],[1.0,1.0,1.0,1.0,1.0,1.0,1.0,1.0])|4.0  |\n",
      "|(46,[1,6,8,15,18,25,27,34],[1.0,1.0,1.0,1.0,1.0,1.0,1.0,1.0])|4.0  |\n",
      "|(46,[0,6,7,16,22,27,42],[1.0,1.0,1.0,1.0,1.0,1.0,1.0])       |4.0  |\n",
      "|(46,[0,6,7,14,23,27,38],[1.0,1.0,1.0,1.0,1.0,1.0,1.0])       |4.0  |\n",
      "|(46,[0,6,7,17,22,27,29],[1.0,1.0,1.0,1.0,1.0,1.0,1.0])       |4.0  |\n",
      "|(46,[0,6,7,16,23,27,29],[1.0,1.0,1.0,1.0,1.0,1.0,1.0])       |4.0  |\n",
      "|(46,[0,6,7,15,22,28,32],[1.0,1.0,1.0,1.0,1.0,1.0,1.0])       |4.0  |\n",
      "|(46,[0,6,7,15,23,28,37],[1.0,1.0,1.0,1.0,1.0,1.0,1.0])       |4.0  |\n",
      "|(46,[0,6,7,14,18,25,27,34],[1.0,1.0,1.0,1.0,1.0,1.0,1.0,1.0])|4.0  |\n",
      "|(46,[0,6,7,17,23,27,29],[1.0,1.0,1.0,1.0,1.0,1.0,1.0])       |4.0  |\n",
      "|(46,[0,6,7,17,22,27,34],[1.0,1.0,1.0,1.0,1.0,1.0,1.0])       |4.0  |\n",
      "|(46,[0,6,7,15,18,26,27,29],[1.0,1.0,1.0,1.0,1.0,1.0,1.0,1.0])|4.0  |\n",
      "|(46,[0,6,7,15,18,22,27,40],[1.0,1.0,1.0,1.0,1.0,1.0,1.0,1.0])|4.0  |\n",
      "|(46,[0,6,7,14,21,22,27,33],[1.0,1.0,1.0,1.0,1.0,1.0,1.0,1.0])|4.0  |\n",
      "|(46,[0,6,7,14,21,23,27,29],[1.0,1.0,1.0,1.0,1.0,1.0,1.0,1.0])|4.0  |\n",
      "+-------------------------------------------------------------+-----+\n",
      "only showing top 20 rows\n",
      "\n"
     ]
    }
   ],
   "source": [
    "#feature selection through RFormula\n",
    "\n",
    "from pyspark.ml.feature import RFormula\n",
    "\n",
    "formula = RFormula(\n",
    "    formula=\"collision_severity ~ weather_1 + killed_victims + road_condition_1 + lighting + alcohol_involved + season + party_sobriety + cellphone_use + movement_preceding_collision\",\n",
    "    featuresCol=\"features\",\n",
    "    labelCol=\"label\")\n",
    "\n",
    "output = formula.fit(join_table).transform(join_table)\n",
    "output.select(\"features\", \"label\").show(truncate = False)"
   ]
  },
  {
   "cell_type": "code",
   "execution_count": 9,
   "metadata": {},
   "outputs": [],
   "source": [
    "from pyspark.ml.feature import (VectorAssembler,VectorIndexer,\n",
    "                                OneHotEncoder,StringIndexer)\n",
    "from pyspark.ml import Pipeline"
   ]
  },
  {
   "cell_type": "code",
   "execution_count": 10,
   "metadata": {},
   "outputs": [],
   "source": [
    "# First create a string indexer\n",
    "# A number will be assigned to every category in the column.\n",
    "# weather_1_indexer = StringIndexer(inputCol='weather_1',outputCol='weather_1Index')\n",
    "\n",
    "# Now we can one hot encode these numbers. This converts the various outputs into a single vector.\n",
    "# This makes it easier to process when you have multiple classes.\n",
    "# weather_1_encoder = OneHotEncoder(inputCol='weather_1Index',outputCol='weather_1Vec')"
   ]
  },
  {
   "cell_type": "code",
   "execution_count": 11,
   "metadata": {},
   "outputs": [],
   "source": [
    "# road_condition_1_indexer = StringIndexer(inputCol='road_condition_1',outputCol='road_condition_1Index')\n",
    "# road_condition_1_encoder = OneHotEncoder(inputCol='road_condition_1Index',outputCol='road_condition_1Vec')"
   ]
  },
  {
   "cell_type": "code",
   "execution_count": 12,
   "metadata": {},
   "outputs": [],
   "source": [
    "# collision_severity_indexer = StringIndexer(inputCol='collision_severity',outputCol='collision_severityIndex')\n",
    "# collision_severity_encoder = OneHotEncoder(inputCol='collision_severityIndex',outputCol='collision_severityVec')"
   ]
  },
  {
   "cell_type": "code",
   "execution_count": 13,
   "metadata": {},
   "outputs": [],
   "source": [
    "# lighting_indexer = StringIndexer(inputCol='lighting',outputCol='lightingIndex')\n",
    "# lighting_encoder = OneHotEncoder(inputCol='lightingIndex',outputCol='lightingVec')"
   ]
  },
  {
   "cell_type": "code",
   "execution_count": 14,
   "metadata": {},
   "outputs": [],
   "source": [
    "# season_indexer = StringIndexer(inputCol='season',outputCol='seasonIndex')\n",
    "# season_encoder = OneHotEncoder(inputCol='seasonIndex',outputCol='seasonVec')"
   ]
  },
  {
   "cell_type": "code",
   "execution_count": 15,
   "metadata": {},
   "outputs": [],
   "source": [
    "# party_sobriety_indexer = StringIndexer(inputCol='party_sobriety',outputCol='party_sobrietyIndex')\n",
    "# party_sobriety_encoder = OneHotEncoder(inputCol='party_sobrietyIndex',outputCol='party_sobrietyVec')"
   ]
  },
  {
   "cell_type": "code",
   "execution_count": 16,
   "metadata": {},
   "outputs": [],
   "source": [
    "# cellphone_use_indexer = StringIndexer(inputCol='cellphone_use',outputCol='cellphone_useIndex')\n",
    "# cellphone_use_encoder = OneHotEncoder(inputCol='cellphone_useIndex',outputCol='cellphone_useVec')"
   ]
  },
  {
   "cell_type": "code",
   "execution_count": 17,
   "metadata": {},
   "outputs": [],
   "source": [
    "# movement_preceding_collision_indexer = StringIndexer(inputCol='movement_preceding_collision',outputCol='movement_preceding_collisionIndex')\n",
    "# movement_preceding_collision_encoder = OneHotEncoder(inputCol='movement_preceding_collisionIndex',outputCol='movement_preceding_collisionVec')"
   ]
  },
  {
   "cell_type": "code",
   "execution_count": 18,
   "metadata": {},
   "outputs": [],
   "source": [
    "# Now we can assemble all of this as one vector in the features column. \n",
    "# assembler = VectorAssembler(inputCols=['weather_1Vec',\n",
    "#  'road_condition_1Vec',\n",
    "#  \"alcohol_involved\",\n",
    "#  \"killed_victims\",\n",
    "#  'lightingVec',\n",
    "#  'seasonVec',\n",
    "#  'party_sobrietyVec',\n",
    "#  'cellphone_useVec',\n",
    "#  'movement_preceding_collisionVec'],outputCol='features')"
   ]
  },
  {
   "cell_type": "code",
   "execution_count": 19,
   "metadata": {},
   "outputs": [],
   "source": [
    "numerical_columns=['alcohol_involved', 'killed_victims']\n",
    "categorical_columns = ['collision_severity','weather_1', 'road_condition_1', 'lighting', 'season', 'party_sobriety', 'cellphone_use', 'movement_preceding_collision']"
   ]
  },
  {
   "cell_type": "code",
   "execution_count": 20,
   "metadata": {},
   "outputs": [],
   "source": [
    "def construct(df,categorical_columns,numerical_columns):\n",
    "    stringindexer_stages = [StringIndexer(inputCol=c, outputCol='strindexed_' + c) for c in categorical_columns]\n",
    "    # encode label column and add it to stringindexer_stages\n",
    "    stringindexer_stages += [StringIndexer(inputCol='collision_severity', outputCol='label')]\n",
    "    \n",
    "    onehotencoder_stages = [OneHotEncoder(inputCol='strindexed_' + c, outputCol='onehot_' + c) for c in categorical_columns]\n",
    "    \n",
    "    feature_columns = ['onehot_' + c for c in categorical_columns]\n",
    "    feature_columns += numerical_columns\n",
    "    vectorassembler_stage = VectorAssembler(inputCols=feature_columns, outputCol='features')\n",
    "    \n",
    "    allc = stringindexer_stages + onehotencoder_stages + [vectorassembler_stage]\n",
    "    pipeline = Pipeline(stages=allc)\n",
    "    pipeline_model = pipeline.fit(df)\n",
    "    final_columns = feature_columns + ['features', 'label']\n",
    "    constructed = pipeline_model.transform(df).\\\n",
    "            select(final_columns)\n",
    "            \n",
    "    return constructed"
   ]
  },
  {
   "cell_type": "code",
   "execution_count": 21,
   "metadata": {},
   "outputs": [],
   "source": [
    "transformed = construct(join_table,categorical_columns,numerical_columns)"
   ]
  },
  {
   "cell_type": "code",
   "execution_count": 53,
   "metadata": {},
   "outputs": [
    {
     "name": "stdout",
     "output_type": "stream",
     "text": [
      "+--------------------+-----+\n",
      "|            features|label|\n",
      "+--------------------+-----+\n",
      "|(50,[5,10,18,24,2...|  4.0|\n",
      "|(50,[4,10,17,26,2...|  4.0|\n",
      "|(50,[4,10,17,28,2...|  4.0|\n",
      "|(50,[4,10,17,24,2...|  4.0|\n",
      "|(50,[4,10,17,25,2...|  4.0|\n",
      "|(50,[5,11,18,24,2...|  4.0|\n",
      "|(50,[5,11,18,27,2...|  4.0|\n",
      "|(50,[4,10,19,24,2...|  4.0|\n",
      "|(50,[4,10,17,25,2...|  4.0|\n",
      "|(50,[4,10,20,24,2...|  4.0|\n",
      "|(50,[4,10,19,25,2...|  4.0|\n",
      "|(50,[4,10,18,24,3...|  4.0|\n",
      "|(50,[4,10,18,25,3...|  4.0|\n",
      "|(50,[4,10,17,27,2...|  4.0|\n",
      "|(50,[4,10,20,25,2...|  4.0|\n",
      "|(50,[4,10,20,24,2...|  4.0|\n",
      "|(50,[4,10,18,28,2...|  4.0|\n",
      "|(50,[4,10,18,24,2...|  4.0|\n",
      "|(50,[4,10,17,23,2...|  4.0|\n",
      "|(50,[4,10,17,23,2...|  4.0|\n",
      "+--------------------+-----+\n",
      "only showing top 20 rows\n",
      "\n"
     ]
    }
   ],
   "source": [
    "transformed.select('features','label').show()"
   ]
  },
  {
   "cell_type": "code",
   "execution_count": 22,
   "metadata": {},
   "outputs": [],
   "source": [
    "from pyspark.ml.classification import RandomForestClassifier\n",
    "rf = RandomForestClassifier()\n",
    "model = rf.fit(transformed)\n",
    "vect = model.featureImportances"
   ]
  },
  {
   "cell_type": "code",
   "execution_count": 31,
   "metadata": {},
   "outputs": [
    {
     "name": "stdout",
     "output_type": "stream",
     "text": [
      "['onehot_collision_severity', 'onehot_weather_1', 'onehot_road_condition_1', 'onehot_lighting', 'onehot_season', 'onehot_party_sobriety', 'onehot_cellphone_use', 'onehot_movement_preceding_collision', 'alcohol_involved', 'killed_victims', 'features', 'label']\n"
     ]
    }
   ],
   "source": [
    "print(transformed.columns)"
   ]
  },
  {
   "cell_type": "code",
   "execution_count": 35,
   "metadata": {},
   "outputs": [
    {
     "name": "stdout",
     "output_type": "stream",
     "text": [
      "[0.25344602817241724, 0.20522745929848352, 0.265712690651679, 0.23189872750617896, 0.0, 5.9189197217171015e-06, 0.0, 9.483510089377672e-07, 0.0, 0.0, 2.855028294469659e-06, 4.542773999451342e-06, 0.0, 5.594236186767516e-07, 0.0, 2.008139607773779e-06, 0.0, 0.000528333760281106, 0.0, 9.857797970082177e-05, 3.0746060715192586e-06, 0.0, 0.00013595951771699048, 1.813462549000179e-05, 0.005032458439925677, 0.0014388848851153145, 0.0016456086228198504, 0.0005939966039349247, 0.0, 2.701064081912301e-05, 0.0003682122176242962, 9.684277200686688e-06, 0.0005452335074700762, 0.0004804284072853623, 0.0015967274332015654, 3.7331135459142444e-06, 7.582088713789109e-05, 0.002042474665061075, 3.9276239066030665e-05, 2.5255528454473792e-05, 0.00018046581210659713, 0.0, 0.0, 0.0, 4.1902160902816915e-05, 0.0002192254915474816, 0.0, 0.0, 0.0024330054829870217, 0.02611477682952356]\n"
     ]
    }
   ],
   "source": [
    "vec=[]\n",
    "for i in vect:\n",
    "    vec.append(i)\n",
    "\n",
    "print((vec))"
   ]
  },
  {
   "cell_type": "code",
   "execution_count": null,
   "metadata": {},
   "outputs": [],
   "source": [
    "#this part of the code did not work\n",
    "# import pandas as pd\n",
    "# feature = pd.DataFrame({'feature': transformed.columns[:-2], 'importance':vec})"
   ]
  },
  {
   "cell_type": "code",
   "execution_count": 56,
   "metadata": {},
   "outputs": [
    {
     "name": "stdout",
     "output_type": "stream",
     "text": [
      "ChiSqSelector output with top 1 features selected\n",
      "+--------------------+-----+----------------+\n",
      "|            features|label|selectedFeatures|\n",
      "+--------------------+-----+----------------+\n",
      "|(50,[5,10,18,24,2...|  4.0|       (1,[],[])|\n",
      "|(50,[4,10,17,26,2...|  4.0|       (1,[],[])|\n",
      "|(50,[4,10,17,28,2...|  4.0|       (1,[],[])|\n",
      "|(50,[4,10,17,24,2...|  4.0|       (1,[],[])|\n",
      "|(50,[4,10,17,25,2...|  4.0|       (1,[],[])|\n",
      "|(50,[5,11,18,24,2...|  4.0|       (1,[],[])|\n",
      "|(50,[5,11,18,27,2...|  4.0|       (1,[],[])|\n",
      "|(50,[4,10,19,24,2...|  4.0|       (1,[],[])|\n",
      "|(50,[4,10,17,25,2...|  4.0|       (1,[],[])|\n",
      "|(50,[4,10,20,24,2...|  4.0|       (1,[],[])|\n",
      "|(50,[4,10,19,25,2...|  4.0|       (1,[],[])|\n",
      "|(50,[4,10,18,24,3...|  4.0|       (1,[],[])|\n",
      "|(50,[4,10,18,25,3...|  4.0|       (1,[],[])|\n",
      "|(50,[4,10,17,27,2...|  4.0|       (1,[],[])|\n",
      "|(50,[4,10,20,25,2...|  4.0|       (1,[],[])|\n",
      "|(50,[4,10,20,24,2...|  4.0|       (1,[],[])|\n",
      "|(50,[4,10,18,28,2...|  4.0|       (1,[],[])|\n",
      "|(50,[4,10,18,24,2...|  4.0|       (1,[],[])|\n",
      "|(50,[4,10,17,23,2...|  4.0|       (1,[],[])|\n",
      "|(50,[4,10,17,23,2...|  4.0|       (1,[],[])|\n",
      "+--------------------+-----+----------------+\n",
      "only showing top 20 rows\n",
      "\n"
     ]
    }
   ],
   "source": [
    "from pyspark.ml.feature import ChiSqSelector\n",
    "from pyspark.ml.linalg import Vectors\n",
    "\n",
    "selector = ChiSqSelector(numTopFeatures=1, featuresCol=\"features\",\n",
    "                         outputCol=\"selectedFeatures\", labelCol=\"label\")\n",
    "\n",
    "\n",
    "result = selector.fit(transformed).transform(transformed)\n",
    "\n",
    "print(\"ChiSqSelector output with top %d features selected\" % selector.getNumTopFeatures())\n",
    "result.select(\"features\", \"label\",'selectedFeatures').show()"
   ]
  },
  {
   "cell_type": "code",
   "execution_count": 57,
   "metadata": {},
   "outputs": [
    {
     "name": "stdout",
     "output_type": "stream",
     "text": [
      "root\n",
      " |-- collision_severity: string (nullable = true)\n",
      " |-- lighting: string (nullable = true)\n",
      " |-- alcohol_involved: boolean (nullable = true)\n",
      " |-- season: string (nullable = true)\n",
      " |-- party_sobriety: string (nullable = true)\n",
      " |-- cellphone_use: string (nullable = true)\n",
      " |-- movement_preceding_collision: string (nullable = true)\n",
      "\n",
      "126108\n"
     ]
    }
   ],
   "source": [
    "#Further exclude data from the join table\n",
    "columns_to_drop = ['killed_victims','road_condition_1',\"weather_1\"]\n",
    "join_table = join_table.drop(*columns_to_drop)\n",
    "join_table.printSchema()"
   ]
  },
  {
   "cell_type": "code",
   "execution_count": 58,
   "metadata": {},
   "outputs": [
    {
     "name": "stdout",
     "output_type": "stream",
     "text": [
      "7\n"
     ]
    }
   ],
   "source": [
    "print(str(len(join_table.columns)))"
   ]
  },
  {
   "cell_type": "markdown",
   "metadata": {},
   "source": [
    "## 4.2 Project the data\n",
    "### 4.2.1 Reclassification"
   ]
  },
  {
   "cell_type": "code",
   "execution_count": 61,
   "metadata": {},
   "outputs": [],
   "source": [
    "#Relabelling COLLISION_SEVERITY\n",
    "from pyspark.sql.functions import when, col\n",
    "join_table = join_table.withColumn(\"collision_severity\", when(col(\"collision_severity\") == 'other injury',\"Light injury\") \\\n",
    "      .when(col(\"collision_severity\") == 'pain',\"Light injury\") \\\n",
    "      .when(col(\"collision_severity\") == 'property damage only',\"no injury\") \\\n",
    "      .otherwise(join_table.collision_severity))"
   ]
  },
  {
   "cell_type": "code",
   "execution_count": 62,
   "metadata": {},
   "outputs": [
    {
     "name": "stdout",
     "output_type": "stream",
     "text": [
      "+------------------+-----+\n",
      "|collision_severity|count|\n",
      "+------------------+-----+\n",
      "|      Light injury|80011|\n",
      "|         no injury|22568|\n",
      "|     severe injury|19689|\n",
      "|             fatal| 3840|\n",
      "+------------------+-----+\n",
      "\n"
     ]
    }
   ],
   "source": [
    "join_table.groupBy('collision_severity').count().orderBy('count', ascending=False).show()"
   ]
  },
  {
   "cell_type": "code",
   "execution_count": 63,
   "metadata": {},
   "outputs": [
    {
     "name": "stdout",
     "output_type": "stream",
     "text": [
      "root\n",
      " |-- collision_severity: string (nullable = true)\n",
      " |-- lighting: string (nullable = true)\n",
      " |-- alcohol_involved: boolean (nullable = true)\n",
      " |-- season: string (nullable = true)\n",
      " |-- party_sobriety: string (nullable = true)\n",
      " |-- cellphone_use: string (nullable = true)\n",
      " |-- movement_preceding_collision: string (nullable = true)\n",
      "\n"
     ]
    }
   ],
   "source": [
    "join_table.printSchema()"
   ]
  },
  {
   "cell_type": "code",
   "execution_count": 64,
   "metadata": {},
   "outputs": [],
   "source": [
    "#Save final table as csv before data mining\n",
    "join_table.write.csv('Final_Table.csv',header=True)"
   ]
  }
 ],
 "metadata": {
  "kernelspec": {
   "display_name": "Python 3",
   "language": "python",
   "name": "python3"
  },
  "language_info": {
   "codemirror_mode": {
    "name": "ipython",
    "version": 3
   },
   "file_extension": ".py",
   "mimetype": "text/x-python",
   "name": "python",
   "nbconvert_exporter": "python",
   "pygments_lexer": "ipython3",
   "version": "3.5.2"
  }
 },
 "nbformat": 4,
 "nbformat_minor": 2
}
