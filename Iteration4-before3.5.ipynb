{
 "cells": [
  {
   "cell_type": "code",
   "execution_count": 4,
   "metadata": {},
   "outputs": [],
   "source": [
    "# Initialise the app\n",
    "import findspark\n",
    "findspark.init('/home/ubuntu/spark-2.1.1-bin-hadoop2.7')\n",
    "import pyspark\n",
    "from pyspark.sql import *\n",
    "spark = SparkSession.builder.appName('iteration4').getOrCreate()\n"
   ]
  },
  {
   "cell_type": "code",
   "execution_count": 5,
   "metadata": {},
   "outputs": [
    {
     "name": "stdout",
     "output_type": "stream",
     "text": [
      "+-------+-------------+-----------------+--------+---------+------------+---------+---------+-------------+-----------------+---------------+------------------+--------------+---------------+-----------+------------------------+------------------+----------------------+---------------+-----------------+---------------------------+--------------------+------------+----------------+----------------+--------------------+--------------------+-----------------+--------------------+---------------+--------------------+----------------+-------------------+--------------------------+------------------------------+-----------------------+------------------------+----------------------+-----------------------+-------------------------+--------------------------+--------------+--------------+------------+\n",
      "|case_id| primary_road|   secondary_road|distance|direction|intersection|weather_1|weather_2|location_type|ramp_intersection|side_of_highway|collision_severity|killed_victims|injured_victims|party_count|primary_collision_factor|pcf_violation_code|pcf_violation_category|    hit_and_run|type_of_collision|motor_vehicle_involved_with|   pedestrian_action|road_surface|road_condition_1|road_condition_2|            lighting|pedestrian_collision|bicycle_collision|motorcycle_collision|truck_collision|not_private_property|alcohol_involved|severe_injury_count|other_visible_injury_count|complaint_of_pain_injury_count|pedestrian_killed_count|pedestrian_injured_count|bicyclist_killed_count|bicyclist_injured_count|motorcyclist_killed_count|motorcyclist_injured_count|collision_date|collision_time|process_date|\n",
      "+-------+-------------+-----------------+--------+---------+------------+---------+---------+-------------+-----------------+---------------+------------------+--------------+---------------+-----------+------------------------+------------------+----------------------+---------------+-----------------+---------------------------+--------------------+------------+----------------+----------------+--------------------+--------------------+-----------------+--------------------+---------------+--------------------+----------------+-------------------+--------------------------+------------------------------+-----------------------+------------------------+----------------------+-----------------------+-------------------------+--------------------------+--------------+--------------+------------+\n",
      "|6292121|        RT 49|   HOLLY VISTA WY|       0|     null|           1|   cloudy|     null| intersection|                5|     northbound|             fatal|             1|              0|          2|    vehicle code viol...|              null|  automobile right ...|not hit and run|          head-on|        other motor vehicle|no pedestrian inv...|         dry|          normal|            null|dark with street ...|                null|             null|                   1|           null|                   1|            null|                  0|                         0|                             0|                      0|                       0|                     0|                      0|                        1|                         0|    18/01/2015|      20:30:00|  29/04/2015|\n",
      "|6292127|  RICHLAND ST|          ROSS ST|       0|     null|           1|    clear|     null|         null|             null|           null|             fatal|             1|              0|          2|    vehicle code viol...|              null|              speeding|not hit and run|       overturned|                       null|no pedestrian inv...|         dry|          normal|            null|            daylight|                null|             null|                   1|           null|                   1|               1|                  0|                         0|                             0|                      0|                       0|                     0|                      0|                        1|                         0|    18/02/2015|      12:23:00|  21/04/2017|\n",
      "|6292128|       RT 118|         HITCH BL|    2549|     east|           0|    clear|     null|      highway|             null|      eastbound|             fatal|             1|              0|          2|    vehicle code viol...|              null|    wrong side of road|not hit and run|          head-on|        other motor vehicle|no pedestrian inv...|         dry|          normal|            null|            daylight|                null|             null|                   1|              1|                   1|            null|                  0|                         0|                             0|                      0|                       0|                     0|                      0|                        1|                         0|    19/02/2015|      17:00:00|  19/05/2015|\n",
      "|6292133|        RT 91|    WEST GRAND BL|     463|     east|           0|   cloudy|     null|      highway|             null|      eastbound|             fatal|             1|              0|          2|    vehicle code viol...|              null|      improper turning|not hit and run|       overturned|              non-collision|no pedestrian inv...|         dry|    construction|            null|dark with street ...|                null|             null|                   1|              1|                   1|               1|                  0|                         0|                             0|                      0|                       0|                     0|                      0|                        1|                         0|    20/02/2015|      19:30:00|  25/04/2017|\n",
      "|6292134|       RT 299|          BAIR RD|     970|     west|           0|    clear|     null|      highway|             null|      westbound|             fatal|             1|              1|          2|    vehicle code viol...|              null|    wrong side of road|not hit and run|          head-on|        other motor vehicle|no pedestrian inv...|         dry|          normal|            null|dark with no stre...|                null|             null|                   1|           null|                   1|            null|                  0|                         1|                             0|                      0|                       0|                     0|                      0|                        1|                         0|    20/02/2015|      21:55:00|  15/05/2015|\n",
      "|6292140|        RT 88|  THUNDER MTN TRL|    1584|     west|           0|    clear|     null|      highway|             null|      westbound|             fatal|             1|              0|          1|    vehicle code viol...|              null|    wrong side of road|not hit and run|       hit object|               fixed object|no pedestrian inv...|         dry|          normal|            null|            daylight|                null|             null|                   1|           null|                   1|            null|                  0|                         0|                             0|                      0|                       0|                     0|                      0|                        1|                         0|    23/02/2015|          null|  15/05/2015|\n",
      "|6292141|         RT 2|        RIPPLE ST|     714|     west|           0|    clear|     null|         ramp|                2|      westbound|             fatal|             1|              0|          2|    vehicle code viol...|              null|              speeding|not hit and run|       overturned|              non-collision|no pedestrian inv...|         dry|          normal|            null|        dusk or dawn|                null|             null|                   1|              1|                   1|            null|                  0|                         0|                             0|                      0|                       0|                     0|                      0|                        1|                         0|    24/02/2015|      17:00:00|  25/04/2017|\n",
      "|6292148|    ROAD 99 W|     CHRISTIAN RD|    1584|    south|           0|    clear|     null|         null|             null|           null|             fatal|             1|              0|          1|       other than driver|              null|  other than driver...|not hit and run|            other|                     animal|no pedestrian inv...|         dry|          normal|            null|dark with no stre...|                null|             null|                   1|           null|                   1|            null|                  0|                         0|                             0|                      0|                       0|                     0|                      0|                        1|                         0|    28/02/2015|       1:30:00|  13/05/2015|\n",
      "|6292149|     AVENUE 1|         PRICE LN|     671|     east|           0|    clear|     null|         null|             null|           null|             fatal|             1|              0|          2|    vehicle code viol...|              null|      improper turning|not hit and run|          head-on|        other motor vehicle|no pedestrian inv...|         dry|          normal|            null|dark with street ...|                null|             null|                   1|           null|                   1|            null|                  0|                         0|                             0|                      0|                       0|                     0|                      0|                        1|                         0|     1/02/2015|      20:11:00|  15/05/2015|\n",
      "|6292153|       RT 101|            RT 60|      50|     null|           0|    clear|     null|      highway|             null|     southbound|             fatal|             1|              0|          1|    vehicle code viol...|              null|      improper turning|not hit and run|       hit object|               fixed object|no pedestrian inv...|         dry|          normal|            null|            daylight|                null|             null|                   1|           null|                   1|               1|                  0|                         0|                             0|                      0|                       0|                     0|                      0|                        1|                         0|    15/02/2015|       9:30:00|  21/04/2017|\n",
      "|6292157|        RT 14|RED ROVER MINE RD|     780|    north|           0|    clear|     null|      highway|             null|     northbound|             fatal|             1|              0|          2|    vehicle code viol...|              null|      improper turning|not hit and run|        sideswipe|        other motor vehicle|no pedestrian inv...|         dry|          normal|            null|        dusk or dawn|                null|             null|                   1|           null|                   1|            null|                  0|                         0|                             0|                      0|                       0|                     0|                      0|                        1|                         0|    20/02/2015|      17:35:00|  19/05/2015|\n",
      "|6292165|   KELLOGG ST| NORTH VENTURA AV|     283|     east|           0|    clear|     null|         null|             null|           null|             fatal|             1|              1|          3|    vehicle code viol...|              null|  pedestrian violation|not hit and run|       pedestrian|                 pedestrian|crossing not in c...|         dry|          normal|            null|dark with street ...|                   1|             null|                   1|           null|                   1|               1|                  0|                         1|                             0|                      0|                       1|                     0|                      0|                        1|                         0|    20/02/2015|      21:31:00|  25/04/2017|\n",
      "|6292175|       RT 120|          MAIN ST|     910|     west|           0|    clear|     null|      highway|             null|      eastbound|             fatal|             1|              0|          2|    vehicle code viol...|              null|              speeding|not hit and run|         rear end|        other motor vehicle|no pedestrian inv...|         dry|          normal|            null|            daylight|                null|             null|                   1|           null|                   1|            null|                  0|                         0|                             0|                      0|                       0|                     0|                      0|                        1|                         0|    18/03/2015|       7:36:00|  20/05/2015|\n",
      "|6292184|   LINCOLN WY|          15TH AV|      75|     east|           0|    clear|     null|         null|             null|           null|             fatal|             1|              0|          2|    vehicle code viol...|              null|              speeding|not hit and run|         rear end|        other motor vehicle|no pedestrian inv...|         dry|          normal|            null|            daylight|                null|             null|                   1|           null|                   1|            null|                  0|                         0|                             0|                      0|                       0|                     0|                      0|                        1|                         0|    12/03/2015|       9:39:00|  21/05/2015|\n",
      "|6292187|       RT 680|  STONE VALLEY RD|     434|    north|           0|    clear|     null|         ramp|                2|     northbound|             fatal|             1|              0|          1|    vehicle code viol...|              null|                   dui|not hit and run|       hit object|               fixed object|no pedestrian inv...|         dry|          normal|            null|            daylight|                null|             null|                   1|           null|                   1|            null|                  0|                         0|                             0|                      0|                       0|                     0|                      0|                        1|                         0|    15/03/2015|      13:26:00|  16/11/2015|\n",
      "|6292194|MCALLISTER ST|      VAN NESS AV|       0|     null|           1|    clear|     null| intersection|                5|     northbound|             fatal|             1|              2|          3|    vehicle code viol...|              null|  traffic signals a...|not hit and run|        broadside|        other motor vehicle|crossing in inter...|         dry|          normal|            null|        dusk or dawn|                   1|             null|                   1|           null|                   1|               1|                  0|                         0|                             2|                      0|                       1|                     0|                      0|                        1|                         0|    10/01/2015|      17:02:00|   4/04/2017|\n",
      "|6292210|     SHINN RD|   MOUNT BALDY RD|     169|     east|           0|    clear|     null|         null|             null|           null|             fatal|             1|              0|          2|    vehicle code viol...|              null|              speeding|not hit and run|          head-on|        other motor vehicle|no pedestrian inv...|         dry|          normal|            null|            daylight|                null|             null|                   1|           null|                   1|            null|                  0|                         0|                             0|                      0|                       0|                     0|                      0|                        1|                         0|    15/03/2015|      14:30:00|   2/06/2015|\n",
      "|6292211|         RT 5|           8TH ST|     315|    south|           0|    clear|     null|      highway|             null|     southbound|             fatal|             1|              0|          2|    vehicle code viol...|              null|    unsafe lane change|not hit and run|        sideswipe|        other motor vehicle|no pedestrian inv...|         dry|          normal|            null|            daylight|                null|             null|                   1|           null|                   1|               1|                  0|                         0|                             0|                      0|                       0|                     0|                      0|                        1|                         0|    17/03/2015|      18:45:00|  25/04/2017|\n",
      "|6292221|        RT 50|      MOSQUITO RD|     172|     east|           0|    clear|     null|         ramp|                2|      westbound|             fatal|             1|              0|          1|    vehicle code viol...|              null|              speeding|not hit and run|       hit object|               fixed object|no pedestrian inv...|         dry|          normal|            null|            daylight|                null|             null|                   1|           null|                   1|            null|                  0|                         0|                             0|                      0|                       0|                     0|                      0|                        1|                         0|    11/04/2015|      18:28:00|  11/01/2016|\n",
      "|6292244|       WARNER|          SCULPIN|     342|     east|           0|    clear|     null|         null|             null|           null|             fatal|             1|              0|          2|    vehicle code viol...|              null|              speeding|not hit and run|        broadside|        other motor vehicle|no pedestrian inv...|        null|           holes|          normal|            daylight|                null|             null|                   1|           null|                   1|            null|                  0|                         0|                             0|                      0|                       0|                     0|                      0|                        1|                         0|    20/04/2015|      10:26:00|   9/05/2017|\n",
      "+-------+-------------+-----------------+--------+---------+------------+---------+---------+-------------+-----------------+---------------+------------------+--------------+---------------+-----------+------------------------+------------------+----------------------+---------------+-----------------+---------------------------+--------------------+------------+----------------+----------------+--------------------+--------------------+-----------------+--------------------+---------------+--------------------+----------------+-------------------+--------------------------+------------------------------+-----------------------+------------------------+----------------------+-----------------------+-------------------------+--------------------------+--------------+--------------+------------+\n",
      "only showing top 20 rows\n",
      "\n"
     ]
    }
   ],
   "source": [
    "# Loading dataset\n",
    "collision = spark.read.csv('./collisions 15-18.csv', header='true')\n",
    "victims = spark.read.csv('./victims 15-18.csv', header='true')\n",
    "parties = spark.read.csv('./parties 15-18.csv', header='true')\n",
    "collision.show()"
   ]
  },
  {
   "cell_type": "markdown",
   "metadata": {},
   "source": [
    "# 2. Data Understanding\n",
    "## 2.1 Collect Initial Data"
   ]
  },
  {
   "cell_type": "code",
   "execution_count": 6,
   "metadata": {},
   "outputs": [
    {
     "name": "stdout",
     "output_type": "stream",
     "text": [
      "+-------+-------------+-----------------+--------+---------+------------+---------+---------+-------------+-----------------+\n",
      "|case_id| primary_road|   secondary_road|distance|direction|intersection|weather_1|weather_2|location_type|ramp_intersection|\n",
      "+-------+-------------+-----------------+--------+---------+------------+---------+---------+-------------+-----------------+\n",
      "|6292121|        RT 49|   HOLLY VISTA WY|       0|     null|           1|   cloudy|     null| intersection|                5|\n",
      "|6292127|  RICHLAND ST|          ROSS ST|       0|     null|           1|    clear|     null|         null|             null|\n",
      "|6292128|       RT 118|         HITCH BL|    2549|     east|           0|    clear|     null|      highway|             null|\n",
      "|6292133|        RT 91|    WEST GRAND BL|     463|     east|           0|   cloudy|     null|      highway|             null|\n",
      "|6292134|       RT 299|          BAIR RD|     970|     west|           0|    clear|     null|      highway|             null|\n",
      "|6292140|        RT 88|  THUNDER MTN TRL|    1584|     west|           0|    clear|     null|      highway|             null|\n",
      "|6292141|         RT 2|        RIPPLE ST|     714|     west|           0|    clear|     null|         ramp|                2|\n",
      "|6292148|    ROAD 99 W|     CHRISTIAN RD|    1584|    south|           0|    clear|     null|         null|             null|\n",
      "|6292149|     AVENUE 1|         PRICE LN|     671|     east|           0|    clear|     null|         null|             null|\n",
      "|6292153|       RT 101|            RT 60|      50|     null|           0|    clear|     null|      highway|             null|\n",
      "|6292157|        RT 14|RED ROVER MINE RD|     780|    north|           0|    clear|     null|      highway|             null|\n",
      "|6292165|   KELLOGG ST| NORTH VENTURA AV|     283|     east|           0|    clear|     null|         null|             null|\n",
      "|6292175|       RT 120|          MAIN ST|     910|     west|           0|    clear|     null|      highway|             null|\n",
      "|6292184|   LINCOLN WY|          15TH AV|      75|     east|           0|    clear|     null|         null|             null|\n",
      "|6292187|       RT 680|  STONE VALLEY RD|     434|    north|           0|    clear|     null|         ramp|                2|\n",
      "|6292194|MCALLISTER ST|      VAN NESS AV|       0|     null|           1|    clear|     null| intersection|                5|\n",
      "|6292210|     SHINN RD|   MOUNT BALDY RD|     169|     east|           0|    clear|     null|         null|             null|\n",
      "|6292211|         RT 5|           8TH ST|     315|    south|           0|    clear|     null|      highway|             null|\n",
      "|6292221|        RT 50|      MOSQUITO RD|     172|     east|           0|    clear|     null|         ramp|                2|\n",
      "|6292244|       WARNER|          SCULPIN|     342|     east|           0|    clear|     null|         null|             null|\n",
      "+-------+-------------+-----------------+--------+---------+------------+---------+---------+-------------+-----------------+\n",
      "only showing top 20 rows\n",
      "\n"
     ]
    }
   ],
   "source": [
    "#Understanding our data\n",
    "#Showing specific columns\n",
    "collision_part1 = collision.select('case_id', 'primary_road', 'secondary_road', 'distance', 'direction',\n",
    "       'intersection', 'weather_1', 'weather_2', 'location_type', 'ramp_intersection')\n",
    "collision_part1.show()"
   ]
  },
  {
   "cell_type": "code",
   "execution_count": 7,
   "metadata": {},
   "outputs": [
    {
     "name": "stdout",
     "output_type": "stream",
     "text": [
      "+---------------+------------------+--------------+---------------+----------------+----------------------+\n",
      "|side_of_highway|collision_severity|killed_victims|injured_victims|alcohol_involved|pcf_violation_category|\n",
      "+---------------+------------------+--------------+---------------+----------------+----------------------+\n",
      "|     northbound|             fatal|             1|              0|            null|  automobile right ...|\n",
      "|           null|             fatal|             1|              0|               1|              speeding|\n",
      "|      eastbound|             fatal|             1|              0|            null|    wrong side of road|\n",
      "|      eastbound|             fatal|             1|              0|               1|      improper turning|\n",
      "|      westbound|             fatal|             1|              1|            null|    wrong side of road|\n",
      "|      westbound|             fatal|             1|              0|            null|    wrong side of road|\n",
      "|      westbound|             fatal|             1|              0|            null|              speeding|\n",
      "|           null|             fatal|             1|              0|            null|  other than driver...|\n",
      "|           null|             fatal|             1|              0|            null|      improper turning|\n",
      "|     southbound|             fatal|             1|              0|               1|      improper turning|\n",
      "|     northbound|             fatal|             1|              0|            null|      improper turning|\n",
      "|           null|             fatal|             1|              1|               1|  pedestrian violation|\n",
      "|      eastbound|             fatal|             1|              0|            null|              speeding|\n",
      "|           null|             fatal|             1|              0|            null|              speeding|\n",
      "|     northbound|             fatal|             1|              0|            null|                   dui|\n",
      "|     northbound|             fatal|             1|              2|               1|  traffic signals a...|\n",
      "|           null|             fatal|             1|              0|            null|              speeding|\n",
      "|     southbound|             fatal|             1|              0|               1|    unsafe lane change|\n",
      "|      westbound|             fatal|             1|              0|            null|              speeding|\n",
      "|           null|             fatal|             1|              0|            null|              speeding|\n",
      "+---------------+------------------+--------------+---------------+----------------+----------------------+\n",
      "only showing top 20 rows\n",
      "\n"
     ]
    }
   ],
   "source": [
    "collision_part2 = collision.select('side_of_highway',\n",
    "       'collision_severity', 'killed_victims', 'injured_victims',\n",
    "       'alcohol_involved','pcf_violation_category')\n",
    "collision_part2.show()"
   ]
  },
  {
   "cell_type": "code",
   "execution_count": 8,
   "metadata": {},
   "outputs": [
    {
     "name": "stdout",
     "output_type": "stream",
     "text": [
      "+-------+-------+------------+-----------+----------+----------+-----------------------+-----------------------+--------------+\n",
      "|     id|case_id|party_number|victim_role|victim_sex|victim_age|victim_degree_of_injury|victim_seating_position|victim_ejected|\n",
      "+-------+-------+------------+-----------+----------+----------+-----------------------+-----------------------+--------------+\n",
      "|2609463|6292121|           1|          2|    female|        10|              no injury|                      3|             0|\n",
      "|2609464|6292121|           1|          2|      male|         8|              no injury|                      6|             0|\n",
      "|2609465|6292121|           2|          1|      male|        57|                 killed|                      1|             1|\n",
      "|2609471|6292127|           1|          1|      male|        30|                 killed|                      1|             1|\n",
      "|2609472|6292128|           1|          1|      male|        58|                 killed|                      1|             1|\n",
      "|2609475|6292133|           1|          1|      male|        41|                 killed|                      1|             1|\n",
      "|2609476|6292134|           1|          1|      male|        24|   other visible injury|                      1|             0|\n",
      "|2609477|6292134|           1|          2|      male|        32|              no injury|                      3|             0|\n",
      "|2609478|6292134|           2|          1|      male|        54|                 killed|                      1|             1|\n",
      "|2609499|6292140|           1|          1|      male|        66|                 killed|                      1|             1|\n",
      "|2609500|6292141|           2|          1|      male|        31|                 killed|                      1|             1|\n",
      "|2609512|6292148|           1|          1|      male|        46|                 killed|                      1|             2|\n",
      "|2609513|6292149|           1|          1|    female|        25|                 killed|                      1|             1|\n",
      "|2609518|6292153|           1|          1|      male|        39|                 killed|                      1|             1|\n",
      "|2609526|6292157|           2|          1|      male|        57|                 killed|                      1|             1|\n",
      "|2609542|6292165|           1|          3|    female|        15|   other visible injury|                      9|             3|\n",
      "|2609543|6292165|           2|          1|      male|        58|                 killed|                      1|             1|\n",
      "|2609559|6292175|           1|          1|      male|        52|                 killed|                      1|             1|\n",
      "|2609569|6292184|           1|          1|      male|        26|                 killed|                      1|             1|\n",
      "|2609570|6292184|           2|          2|      male|        30|              no injury|                      3|             0|\n",
      "+-------+-------+------------+-----------+----------+----------+-----------------------+-----------------------+--------------+\n",
      "only showing top 20 rows\n",
      "\n"
     ]
    }
   ],
   "source": [
    "victims.show()"
   ]
  },
  {
   "cell_type": "code",
   "execution_count": 9,
   "metadata": {},
   "outputs": [
    {
     "name": "stdout",
     "output_type": "stream",
     "text": [
      "+-------+-------+------------+--------------+--------+---------+---------+--------------+-------------+\n",
      "|     id|case_id|party_number|    party_type|at_fault|party_sex|party_age|party_sobriety|cellphone_use|\n",
      "+-------+-------+------------+--------------+--------+---------+---------+--------------+-------------+\n",
      "|4734135|6292121|           1|        driver|       1|     male|       39|             A|            3|\n",
      "|4734136|6292121|           2|        driver|       0|     male|       57|          null|            3|\n",
      "|4734144|6292127|           1|        driver|       1|     male|       30|             C|            3|\n",
      "|4734145|6292127|           2|parked vehicle|       0|     null|     null|             H|            3|\n",
      "|4734146|6292128|           1|        driver|       1|     male|       58|             G|            3|\n",
      "|4734147|6292128|           2|        driver|       0|     male|       48|             A|            3|\n",
      "|4734152|6292133|           1|        driver|       1|     male|       41|             B|            3|\n",
      "|4734153|6292133|           2|        driver|       0|   female|       50|             A|            3|\n",
      "|4734154|6292134|           1|        driver|       1|     male|       24|             A|            3|\n",
      "|4734155|6292134|           2|        driver|       0|     male|       54|          null|            3|\n",
      "|4734165|6292140|           1|        driver|       1|     male|       66|             G|            3|\n",
      "|4734166|6292141|           1|        driver|       0|     male|       49|             A|            3|\n",
      "|4734167|6292141|           2|        driver|       1|     male|       31|          null|            3|\n",
      "|4734178|6292148|           1|        driver|       0|     male|       46|             G|            3|\n",
      "|4734179|6292149|           1|        driver|       1|   female|       25|             G|         null|\n",
      "|4734180|6292149|           2|        driver|       0|     male|       18|             A|         null|\n",
      "|4734185|6292153|           1|        driver|       1|     male|       39|             B|            3|\n",
      "|4734192|6292157|           1|        driver|       1|   female|       23|             A|            3|\n",
      "|4734193|6292157|           2|        driver|       0|     male|       57|             G|            3|\n",
      "|4734208|6292165|           1|    pedestrian|       1|   female|       15|             A|            3|\n",
      "+-------+-------+------------+--------------+--------+---------+---------+--------------+-------------+\n",
      "only showing top 20 rows\n",
      "\n",
      "+-------------------+------------------------+------------------------+------------------------+-------------------+\n",
      "|party_drug_physical|party_safety_equipment_1|party_safety_equipment_2|financial_responsibility|hazardous_materials|\n",
      "+-------------------+------------------------+------------------------+------------------------+-------------------+\n",
      "|               null|                       M|                       G|                       Y|               null|\n",
      "|                  E|                       P|                       W|                       Y|               null|\n",
      "|               null|                       P|                       W|                       Y|               null|\n",
      "|                  H|                    null|                    null|                       O|               null|\n",
      "|                  G|                       P|                       W|                       N|               null|\n",
      "|               null|                       M|                       G|                       Y|               null|\n",
      "|               null|                       P|                       W|                       Y|               null|\n",
      "|               null|                       M|                       G|                       Y|               null|\n",
      "|               null|                       L|                       G|                       Y|               null|\n",
      "|                  E|                       P|                       W|                       Y|               null|\n",
      "|                  G|                       P|                       W|                       Y|               null|\n",
      "|               null|                       P|                       G|                       Y|               null|\n",
      "|                  E|                       P|                       W|                       N|               null|\n",
      "|                  G|                       P|                       W|                       N|               null|\n",
      "|                  G|                       P|                       W|                    null|               null|\n",
      "|               null|                       L|                       G|                       Y|               null|\n",
      "|               null|                       P|                       W|                       N|               null|\n",
      "|               null|                       M|                       G|                       Y|               null|\n",
      "|                  G|                       P|                       V|                       N|               null|\n",
      "|               null|                    null|                    null|                       O|               null|\n",
      "+-------------------+------------------------+------------------------+------------------------+-------------------+\n",
      "only showing top 20 rows\n",
      "\n"
     ]
    }
   ],
   "source": [
    "parties_part1 = parties.select('id', 'case_id', 'party_number', 'party_type', 'at_fault', 'party_sex',\n",
    "       'party_age', 'party_sobriety','cellphone_use')\n",
    "parties_part1.show()\n",
    "parties_part2 = parties.select('party_drug_physical', 'party_safety_equipment_1',\n",
    "       'party_safety_equipment_2', 'financial_responsibility',\n",
    "       'hazardous_materials')\n",
    "parties_part2.show()"
   ]
  },
  {
   "cell_type": "markdown",
   "metadata": {},
   "source": [
    "## 2.2 Describe the data"
   ]
  },
  {
   "cell_type": "code",
   "execution_count": 10,
   "metadata": {},
   "outputs": [
    {
     "name": "stdout",
     "output_type": "stream",
     "text": [
      "Collisions table has 69160 no. of rows and 44 no. of fields\n",
      "Parties table has 129666 no. of rows and 28 no. of fields\n",
      "Victims table has 79293 no. of rows and 9 no. of fields\n"
     ]
    }
   ],
   "source": [
    "#Describing data\n",
    "collisionRow = collision.count()\n",
    "collisionCol = len(collision.columns)\n",
    "partiesRow = parties.count()\n",
    "partiesCol = len(parties.columns)\n",
    "victimsRow = victims.count()\n",
    "victimsCol = len(victims.columns)\n",
    "print('Collisions table has '+ str(collisionRow) + ' no. of rows and ' + str(collisionCol) + ' no. of fields')\n",
    "print('Parties table has '+ str(partiesRow) + ' no. of rows and ' + str(partiesCol) + ' no. of fields')\n",
    "print('Victims table has '+ str(victimsRow) + ' no. of rows and ' + str(victimsCol) + ' no. of fields')"
   ]
  },
  {
   "cell_type": "code",
   "execution_count": 11,
   "metadata": {},
   "outputs": [
    {
     "name": "stdout",
     "output_type": "stream",
     "text": [
      "root\n",
      " |-- case_id: string (nullable = true)\n",
      " |-- primary_road: string (nullable = true)\n",
      " |-- secondary_road: string (nullable = true)\n",
      " |-- distance: string (nullable = true)\n",
      " |-- direction: string (nullable = true)\n",
      " |-- intersection: string (nullable = true)\n",
      " |-- weather_1: string (nullable = true)\n",
      " |-- weather_2: string (nullable = true)\n",
      " |-- location_type: string (nullable = true)\n",
      " |-- ramp_intersection: string (nullable = true)\n",
      " |-- side_of_highway: string (nullable = true)\n",
      " |-- collision_severity: string (nullable = true)\n",
      " |-- killed_victims: string (nullable = true)\n",
      " |-- injured_victims: string (nullable = true)\n",
      " |-- party_count: string (nullable = true)\n",
      " |-- primary_collision_factor: string (nullable = true)\n",
      " |-- pcf_violation_code: string (nullable = true)\n",
      " |-- pcf_violation_category: string (nullable = true)\n",
      " |-- hit_and_run: string (nullable = true)\n",
      " |-- type_of_collision: string (nullable = true)\n",
      " |-- motor_vehicle_involved_with: string (nullable = true)\n",
      " |-- pedestrian_action: string (nullable = true)\n",
      " |-- road_surface: string (nullable = true)\n",
      " |-- road_condition_1: string (nullable = true)\n",
      " |-- road_condition_2: string (nullable = true)\n",
      " |-- lighting: string (nullable = true)\n",
      " |-- pedestrian_collision: string (nullable = true)\n",
      " |-- bicycle_collision: string (nullable = true)\n",
      " |-- motorcycle_collision: string (nullable = true)\n",
      " |-- truck_collision: string (nullable = true)\n",
      " |-- not_private_property: string (nullable = true)\n",
      " |-- alcohol_involved: string (nullable = true)\n",
      " |-- severe_injury_count: string (nullable = true)\n",
      " |-- other_visible_injury_count: string (nullable = true)\n",
      " |-- complaint_of_pain_injury_count: string (nullable = true)\n",
      " |-- pedestrian_killed_count: string (nullable = true)\n",
      " |-- pedestrian_injured_count: string (nullable = true)\n",
      " |-- bicyclist_killed_count: string (nullable = true)\n",
      " |-- bicyclist_injured_count: string (nullable = true)\n",
      " |-- motorcyclist_killed_count: string (nullable = true)\n",
      " |-- motorcyclist_injured_count: string (nullable = true)\n",
      " |-- collision_date: string (nullable = true)\n",
      " |-- collision_time: string (nullable = true)\n",
      " |-- process_date: string (nullable = true)\n",
      "\n"
     ]
    }
   ],
   "source": [
    "collision.printSchema()"
   ]
  },
  {
   "cell_type": "code",
   "execution_count": 12,
   "metadata": {},
   "outputs": [
    {
     "name": "stdout",
     "output_type": "stream",
     "text": [
      "root\n",
      " |-- id: string (nullable = true)\n",
      " |-- case_id: string (nullable = true)\n",
      " |-- party_number: string (nullable = true)\n",
      " |-- party_type: string (nullable = true)\n",
      " |-- at_fault: string (nullable = true)\n",
      " |-- party_sex: string (nullable = true)\n",
      " |-- party_age: string (nullable = true)\n",
      " |-- party_sobriety: string (nullable = true)\n",
      " |-- party_drug_physical: string (nullable = true)\n",
      " |-- direction_of_travel: string (nullable = true)\n",
      " |-- party_safety_equipment_1: string (nullable = true)\n",
      " |-- party_safety_equipment_2: string (nullable = true)\n",
      " |-- financial_responsibility: string (nullable = true)\n",
      " |-- hazardous_materials: string (nullable = true)\n",
      " |-- cellphone_use: string (nullable = true)\n",
      " |-- oaf_violation_code: string (nullable = true)\n",
      " |-- oaf_violation_category: string (nullable = true)\n",
      " |-- oaf_violation_section: string (nullable = true)\n",
      " |-- oaf_violation_suffix: string (nullable = true)\n",
      " |-- other_associate_factor_1: string (nullable = true)\n",
      " |-- other_associate_factor_2: string (nullable = true)\n",
      " |-- party_number_killed: string (nullable = true)\n",
      " |-- party_number_injured: string (nullable = true)\n",
      " |-- movement_preceding_collision: string (nullable = true)\n",
      " |-- vehicle_year: string (nullable = true)\n",
      " |-- vehicle_make: string (nullable = true)\n",
      " |-- statewide_vehicle_type: string (nullable = true)\n",
      " |-- party_race: string (nullable = true)\n",
      "\n"
     ]
    }
   ],
   "source": [
    "parties.printSchema()"
   ]
  },
  {
   "cell_type": "code",
   "execution_count": 13,
   "metadata": {},
   "outputs": [
    {
     "name": "stdout",
     "output_type": "stream",
     "text": [
      "root\n",
      " |-- id: string (nullable = true)\n",
      " |-- case_id: string (nullable = true)\n",
      " |-- party_number: string (nullable = true)\n",
      " |-- victim_role: string (nullable = true)\n",
      " |-- victim_sex: string (nullable = true)\n",
      " |-- victim_age: string (nullable = true)\n",
      " |-- victim_degree_of_injury: string (nullable = true)\n",
      " |-- victim_seating_position: string (nullable = true)\n",
      " |-- victim_ejected: string (nullable = true)\n",
      "\n"
     ]
    }
   ],
   "source": [
    "victims.printSchema()"
   ]
  },
  {
   "cell_type": "code",
   "execution_count": 14,
   "metadata": {},
   "outputs": [
    {
     "name": "stdout",
     "output_type": "stream",
     "text": [
      "+-----------------------+\n",
      "|victim_degree_of_injury|\n",
      "+-----------------------+\n",
      "|                      7|\n",
      "|   other visible injury|\n",
      "|                      5|\n",
      "|                      6|\n",
      "|      complaint of pain|\n",
      "|              no injury|\n",
      "|          severe injury|\n",
      "|                 killed|\n",
      "+-----------------------+\n",
      "\n"
     ]
    }
   ],
   "source": [
    "victims.select(\"victim_degree_of_injury\").distinct().show()"
   ]
  },
  {
   "cell_type": "markdown",
   "metadata": {},
   "source": [
    "## 2.3 Explore the data (This was done on Tableau)"
   ]
  },
  {
   "cell_type": "markdown",
   "metadata": {},
   "source": [
    "## 2.4 Verify the data quality\n",
    "### 2.4.1. Missing Values\n"
   ]
  },
  {
   "cell_type": "code",
   "execution_count": 15,
   "metadata": {},
   "outputs": [
    {
     "name": "stdout",
     "output_type": "stream",
     "text": [
      "+-------+------------+--------------+--------+---------+------------+---------+---------+-------------+-----------------+\n",
      "|case_id|primary_road|secondary_road|distance|direction|intersection|weather_1|weather_2|location_type|ramp_intersection|\n",
      "+-------+------------+--------------+--------+---------+------------+---------+---------+-------------+-----------------+\n",
      "|      0|           0|             0|       0|    15457|         228|      151|    68471|        62476|            67302|\n",
      "+-------+------------+--------------+--------+---------+------------+---------+---------+-------------+-----------------+\n",
      "\n",
      "+---------------+------------------+--------------+---------------+----------------+----------------------+\n",
      "|side_of_highway|collision_severity|killed_victims|injured_victims|alcohol_involved|pcf_violation_category|\n",
      "+---------------+------------------+--------------+---------------+----------------+----------------------+\n",
      "|          62476|                 0|             0|              0|           64061|                   253|\n",
      "+---------------+------------------+--------------+---------------+----------------+----------------------+\n",
      "\n"
     ]
    }
   ],
   "source": [
    "### Count of NaN and Null values in pyspark\n",
    "from pyspark.sql.functions import isnan, when, count, col\n",
    "collision_part1.select([count(when(isnan(c) | col(c).isNull(), c)).alias(c) for c in collision_part1.columns]).show()\n",
    "collision_part2.select([count(when(isnan(c) | col(c).isNull(), c)).alias(c) for c in collision_part2.columns]).show()"
   ]
  },
  {
   "cell_type": "code",
   "execution_count": 16,
   "metadata": {},
   "outputs": [
    {
     "name": "stdout",
     "output_type": "stream",
     "text": [
      "+---+-------+------------+----------+--------+---------+---------+--------------+-------------+\n",
      "| id|case_id|party_number|party_type|at_fault|party_sex|party_age|party_sobriety|cellphone_use|\n",
      "+---+-------+------------+----------+--------+---------+---------+--------------+-------------+\n",
      "|  0|      0|           0|        35|       0|    10432|    12326|          2090|        13013|\n",
      "+---+-------+------------+----------+--------+---------+---------+--------------+-------------+\n",
      "\n",
      "+-------------------+------------------------+------------------------+------------------------+-------------------+\n",
      "|party_drug_physical|party_safety_equipment_1|party_safety_equipment_2|financial_responsibility|hazardous_materials|\n",
      "+-------------------+------------------------+------------------------+------------------------+-------------------+\n",
      "|             113724|                   41742|                   14313|                    9597|             129579|\n",
      "+-------------------+------------------------+------------------------+------------------------+-------------------+\n",
      "\n"
     ]
    }
   ],
   "source": [
    "parties_part1.select([count(when(isnan(c) | col(c).isNull(), c)).alias(c) for c in parties_part1.columns]).show()\n",
    "parties_part2.select([count(when(isnan(c) | col(c).isNull(), c)).alias(c) for c in parties_part2.columns]).show()"
   ]
  },
  {
   "cell_type": "code",
   "execution_count": 17,
   "metadata": {},
   "outputs": [
    {
     "name": "stdout",
     "output_type": "stream",
     "text": [
      "+---+-------+------------+-----------+----------+----------+-----------------------+-----------------------+--------------+\n",
      "| id|case_id|party_number|victim_role|victim_sex|victim_age|victim_degree_of_injury|victim_seating_position|victim_ejected|\n",
      "+---+-------+------------+-----------+----------+----------+-----------------------+-----------------------+--------------+\n",
      "|  0|      0|           0|          0|      1463|      1128|                      0|                      0|            18|\n",
      "+---+-------+------------+-----------+----------+----------+-----------------------+-----------------------+--------------+\n",
      "\n"
     ]
    }
   ],
   "source": [
    "victims.select([count(when(isnan(c) | col(c).isNull(), c)).alias(c) for c in victims.columns]).show()"
   ]
  },
  {
   "cell_type": "markdown",
   "metadata": {},
   "source": [
    "### 2.4.2 Measurement Errors"
   ]
  },
  {
   "cell_type": "code",
   "execution_count": 18,
   "metadata": {},
   "outputs": [
    {
     "name": "stdout",
     "output_type": "stream",
     "text": [
      "+-------+----------------+\n",
      "|summary|alcohol_involved|\n",
      "+-------+----------------+\n",
      "|  count|            5099|\n",
      "|   mean|             1.0|\n",
      "| stddev|             0.0|\n",
      "|    min|               1|\n",
      "|    max|               1|\n",
      "+-------+----------------+\n",
      "\n"
     ]
    }
   ],
   "source": [
    "#Showing specific columns summary\n",
    "collision.select(\"alcohol_involved\").describe().show()"
   ]
  },
  {
   "cell_type": "markdown",
   "metadata": {},
   "source": [
    "### 2.4.4 Coding inconsistencies"
   ]
  },
  {
   "cell_type": "code",
   "execution_count": 19,
   "metadata": {},
   "outputs": [
    {
     "name": "stdout",
     "output_type": "stream",
     "text": [
      "+-------------+------+\n",
      "|cellphone_use| count|\n",
      "+-------------+------+\n",
      "|            3|114339|\n",
      "|         null| 13013|\n",
      "|            2|   666|\n",
      "|            D|   665|\n",
      "|            C|   648|\n",
      "|            1|   324|\n",
      "|            B|    11|\n",
      "+-------------+------+\n",
      "\n"
     ]
    }
   ],
   "source": [
    "parties.groupBy('cellphone_use').count().orderBy('count', ascending=False).show()"
   ]
  },
  {
   "cell_type": "code",
   "execution_count": 20,
   "metadata": {},
   "outputs": [
    {
     "name": "stdout",
     "output_type": "stream",
     "text": [
      "+-----------------------+-----+\n",
      "|victim_degree_of_injury|count|\n",
      "+-----------------------+-----+\n",
      "|   other visible injury|23314|\n",
      "|      complaint of pain|19204|\n",
      "|              no injury|14779|\n",
      "|          severe injury| 9049|\n",
      "|                      6| 5061|\n",
      "|                      7| 2886|\n",
      "|                      5| 2785|\n",
      "|                 killed| 2215|\n",
      "+-----------------------+-----+\n",
      "\n"
     ]
    }
   ],
   "source": [
    "victims.groupBy('victim_degree_of_injury').count().orderBy(col('count').desc()).show()"
   ]
  },
  {
   "cell_type": "markdown",
   "metadata": {},
   "source": [
    "# Data Preparation\n",
    "## 3.1 Select the data\n",
    "### 3.1.3 Excluding the data"
   ]
  },
  {
   "cell_type": "code",
   "execution_count": 21,
   "metadata": {},
   "outputs": [
    {
     "name": "stdout",
     "output_type": "stream",
     "text": [
      "+-------+---------+------------------+--------------+----------------+--------------------+----------------+--------------+\n",
      "|case_id|weather_1|collision_severity|killed_victims|road_condition_1|            lighting|alcohol_involved|collision_date|\n",
      "+-------+---------+------------------+--------------+----------------+--------------------+----------------+--------------+\n",
      "|6292121|   cloudy|             fatal|             1|          normal|dark with street ...|            null|    18/01/2015|\n",
      "|6292127|    clear|             fatal|             1|          normal|            daylight|               1|    18/02/2015|\n",
      "|6292128|    clear|             fatal|             1|          normal|            daylight|            null|    19/02/2015|\n",
      "|6292133|   cloudy|             fatal|             1|    construction|dark with street ...|               1|    20/02/2015|\n",
      "|6292134|    clear|             fatal|             1|          normal|dark with no stre...|            null|    20/02/2015|\n",
      "|6292140|    clear|             fatal|             1|          normal|            daylight|            null|    23/02/2015|\n",
      "|6292141|    clear|             fatal|             1|          normal|        dusk or dawn|            null|    24/02/2015|\n",
      "|6292148|    clear|             fatal|             1|          normal|dark with no stre...|            null|    28/02/2015|\n",
      "|6292149|    clear|             fatal|             1|          normal|dark with street ...|            null|     1/02/2015|\n",
      "|6292153|    clear|             fatal|             1|          normal|            daylight|               1|    15/02/2015|\n",
      "|6292157|    clear|             fatal|             1|          normal|        dusk or dawn|            null|    20/02/2015|\n",
      "|6292165|    clear|             fatal|             1|          normal|dark with street ...|               1|    20/02/2015|\n",
      "|6292175|    clear|             fatal|             1|          normal|            daylight|            null|    18/03/2015|\n",
      "|6292184|    clear|             fatal|             1|          normal|            daylight|            null|    12/03/2015|\n",
      "|6292187|    clear|             fatal|             1|          normal|            daylight|            null|    15/03/2015|\n",
      "|6292194|    clear|             fatal|             1|          normal|        dusk or dawn|               1|    10/01/2015|\n",
      "|6292210|    clear|             fatal|             1|          normal|            daylight|            null|    15/03/2015|\n",
      "|6292211|    clear|             fatal|             1|          normal|            daylight|               1|    17/03/2015|\n",
      "|6292221|    clear|             fatal|             1|          normal|            daylight|            null|    11/04/2015|\n",
      "|6292244|    clear|             fatal|             1|           holes|            daylight|            null|    20/04/2015|\n",
      "+-------+---------+------------------+--------------+----------------+--------------------+----------------+--------------+\n",
      "only showing top 20 rows\n",
      "\n"
     ]
    }
   ],
   "source": [
    "#Exclude data from the Collisions table\n",
    "collision_to_drop = ['primary_road', 'secondary_road', 'distance', 'direction',\n",
    "       'intersection', 'weather_2', 'location_type',\n",
    "       'ramp_intersection', 'side_of_highway', 'injured_victims', 'party_count',\n",
    "       'primary_collision_factor', 'pcf_violation_code',\n",
    "       'pcf_violation_category', 'hit_and_run', 'type_of_collision',\n",
    "       'motor_vehicle_involved_with', 'pedestrian_action', 'road_surface',\n",
    "       'road_condition_2','pedestrian_collision', 'bicycle_collision', 'motorcycle_collision',\n",
    "       'truck_collision', 'not_private_property',\n",
    "       'severe_injury_count', 'other_visible_injury_count',\n",
    "       'complaint_of_pain_injury_count', 'pedestrian_killed_count',\n",
    "       'pedestrian_injured_count', 'bicyclist_killed_count',\n",
    "       'bicyclist_injured_count', 'motorcyclist_killed_count',\n",
    "       'motorcyclist_injured_count', 'collision_time',\n",
    "       'process_date']\n",
    "collision_clean = collision.drop(*collision_to_drop)\n",
    "collision_clean.show()"
   ]
  },
  {
   "cell_type": "code",
   "execution_count": 22,
   "metadata": {},
   "outputs": [
    {
     "name": "stdout",
     "output_type": "stream",
     "text": [
      "root\n",
      " |-- case_id: string (nullable = true)\n",
      " |-- weather_1: string (nullable = true)\n",
      " |-- collision_severity: string (nullable = true)\n",
      " |-- killed_victims: string (nullable = true)\n",
      " |-- road_condition_1: string (nullable = true)\n",
      " |-- lighting: string (nullable = true)\n",
      " |-- alcohol_involved: string (nullable = true)\n",
      " |-- collision_date: string (nullable = true)\n",
      "\n"
     ]
    }
   ],
   "source": [
    "collision_clean.printSchema()"
   ]
  },
  {
   "cell_type": "code",
   "execution_count": 23,
   "metadata": {},
   "outputs": [
    {
     "name": "stdout",
     "output_type": "stream",
     "text": [
      "+-------+-------+--------------+-------------+----------------------------+\n",
      "|     id|case_id|party_sobriety|cellphone_use|movement_preceding_collision|\n",
      "+-------+-------+--------------+-------------+----------------------------+\n",
      "|4734135|6292121|             A|            3|            making left turn|\n",
      "|4734136|6292121|          null|            3|         proceeding straight|\n",
      "|4734144|6292127|             C|            3|         proceeding straight|\n",
      "|4734145|6292127|             H|            3|                      parked|\n",
      "|4734146|6292128|             G|            3|        crossed into oppo...|\n",
      "|4734147|6292128|             A|            3|         proceeding straight|\n",
      "|4734152|6292133|             B|            3|                       other|\n",
      "|4734153|6292133|             A|            3|         proceeding straight|\n",
      "|4734154|6292134|             A|            3|        crossed into oppo...|\n",
      "|4734155|6292134|          null|            3|         proceeding straight|\n",
      "|4734165|6292140|             G|            3|                ran off road|\n",
      "|4734166|6292141|             A|            3|         proceeding straight|\n",
      "|4734167|6292141|          null|            3|         proceeding straight|\n",
      "|4734178|6292148|             G|            3|         proceeding straight|\n",
      "|4734179|6292149|             G|         null|        other unsafe turning|\n",
      "|4734180|6292149|             A|         null|                     stopped|\n",
      "|4734185|6292153|             B|            3|                       other|\n",
      "|4734192|6292157|             A|            3|                       other|\n",
      "|4734193|6292157|             G|            3|         proceeding straight|\n",
      "|4734208|6292165|             A|            3|            entering traffic|\n",
      "+-------+-------+--------------+-------------+----------------------------+\n",
      "only showing top 20 rows\n",
      "\n"
     ]
    }
   ],
   "source": [
    "#Exclude data from the Parties table\n",
    "parties_to_drop = ['party_number', 'party_type', 'at_fault', 'party_sex',\n",
    "       'party_age', 'party_drug_physical',\n",
    "       'direction_of_travel', 'party_safety_equipment_1',\n",
    "       'party_safety_equipment_2', 'financial_responsibility',\n",
    "       'hazardous_materials', 'oaf_violation_code',\n",
    "       'oaf_violation_category', 'oaf_violation_section',\n",
    "       'oaf_violation_suffix', 'other_associate_factor_1',\n",
    "       'other_associate_factor_2', 'party_number_killed',\n",
    "       'party_number_injured', 'vehicle_year',\n",
    "       'vehicle_make', 'statewide_vehicle_type', 'party_race']\n",
    "parties_clean = parties.drop(*parties_to_drop)\n",
    "parties_clean.show()"
   ]
  },
  {
   "cell_type": "markdown",
   "metadata": {},
   "source": [
    "## 3.2 Clean the data\n",
    "### 3.2.1 Measurement Errors - ALCOHOL_INVOLVED\n"
   ]
  },
  {
   "cell_type": "code",
   "execution_count": 24,
   "metadata": {},
   "outputs": [],
   "source": [
    "collision_clean = collision_clean.na.fill(value=\"0\", subset=['alcohol_involved'])"
   ]
  },
  {
   "cell_type": "code",
   "execution_count": 25,
   "metadata": {},
   "outputs": [
    {
     "name": "stdout",
     "output_type": "stream",
     "text": [
      "+-------+-------------------+\n",
      "|summary|   alcohol_involved|\n",
      "+-------+-------------------+\n",
      "|  count|              69160|\n",
      "|   mean|0.07372758820127241|\n",
      "| stddev| 0.2613289467328907|\n",
      "|    min|                  0|\n",
      "|    max|                  1|\n",
      "+-------+-------------------+\n",
      "\n",
      "+----------------+-----+\n",
      "|alcohol_involved|count|\n",
      "+----------------+-----+\n",
      "|               0|64061|\n",
      "|               1| 5099|\n",
      "+----------------+-----+\n",
      "\n"
     ]
    }
   ],
   "source": [
    "#Showing specific columns summary\n",
    "collision_clean.select(\"alcohol_involved\").describe().show()\n",
    "collision_clean.groupBy('alcohol_involved').count().orderBy('count', ascending=False).show()"
   ]
  },
  {
   "cell_type": "code",
   "execution_count": 26,
   "metadata": {},
   "outputs": [
    {
     "name": "stdout",
     "output_type": "stream",
     "text": [
      "69160\n",
      "8\n"
     ]
    }
   ],
   "source": [
    "print(str(collision_clean.count()))\n",
    "print(str(len(collision_clean.columns)))"
   ]
  },
  {
   "cell_type": "markdown",
   "metadata": {},
   "source": [
    "### 3.2.2 Missing Values"
   ]
  },
  {
   "cell_type": "code",
   "execution_count": 27,
   "metadata": {},
   "outputs": [
    {
     "name": "stdout",
     "output_type": "stream",
     "text": [
      "68588\n",
      "8\n"
     ]
    }
   ],
   "source": [
    "#Filter out null values in the collision table\n",
    "collision_clean = collision_clean.na.drop(subset=[\"lighting\", \"weather_1\", \"road_condition_1\"])\n",
    "collision_clean.count()\n",
    "print(str(collision_clean.count()))\n",
    "print(str(len(collision_clean.columns)))"
   ]
  },
  {
   "cell_type": "code",
   "execution_count": 28,
   "metadata": {},
   "outputs": [
    {
     "name": "stdout",
     "output_type": "stream",
     "text": [
      "+-------+---------+------------------+--------------+----------------+--------+----------------+--------------+\n",
      "|case_id|weather_1|collision_severity|killed_victims|road_condition_1|lighting|alcohol_involved|collision_date|\n",
      "+-------+---------+------------------+--------------+----------------+--------+----------------+--------------+\n",
      "|      0|        0|                 0|             0|               0|       0|               0|             0|\n",
      "+-------+---------+------------------+--------------+----------------+--------+----------------+--------------+\n",
      "\n"
     ]
    }
   ],
   "source": [
    "collision_clean.select([count(when(isnan(c) | col(c).isNull(), c)).alias(c) for c in collision_clean.columns]).show()"
   ]
  },
  {
   "cell_type": "code",
   "execution_count": 29,
   "metadata": {},
   "outputs": [
    {
     "name": "stdout",
     "output_type": "stream",
     "text": [
      "127076\n",
      "5\n"
     ]
    }
   ],
   "source": [
    "#Filter out null values in the parties table\n",
    "parties_clean = parties_clean.na.drop(subset=[\"party_sobriety\", \"movement_preceding_collision\"])\n",
    "parties_clean.count()\n",
    "print(str(parties_clean.count()))\n",
    "print(str(len(parties_clean.columns)))"
   ]
  },
  {
   "cell_type": "code",
   "execution_count": 30,
   "metadata": {},
   "outputs": [
    {
     "name": "stdout",
     "output_type": "stream",
     "text": [
      "+---+-------+--------------+-------------+----------------------------+\n",
      "| id|case_id|party_sobriety|cellphone_use|movement_preceding_collision|\n",
      "+---+-------+--------------+-------------+----------------------------+\n",
      "|  0|      0|             0|        11598|                           0|\n",
      "+---+-------+--------------+-------------+----------------------------+\n",
      "\n"
     ]
    }
   ],
   "source": [
    "parties_clean.select([count(when(isnan(c) | col(c).isNull(), c)).alias(c) for c in parties_clean.columns]).show()"
   ]
  },
  {
   "cell_type": "markdown",
   "metadata": {},
   "source": [
    "### 3.2.3 Code inconsistencies – CELLPHONE_USE"
   ]
  },
  {
   "cell_type": "code",
   "execution_count": 31,
   "metadata": {},
   "outputs": [],
   "source": [
    "#Relabelling cellphone_use\n",
    "parties_clean = parties_clean.withColumn(\"cellphone_use\", when(col(\"cellphone_use\") == '1',\"Cell Phone in Use\") \\\n",
    "      .when(col(\"cellphone_use\") == '2',\"Cell Phone in Use\") \\\n",
    "      .when(col(\"cellphone_use\") == 'B',\"Cell Phone in Use\") \\\n",
    "      .when(col(\"cellphone_use\") == '3',\"Cell Phone Not in Use\") \\\n",
    "      .when(col(\"cellphone_use\") == 'C',\"Cell Phone Not in Use\") \\\n",
    "      .otherwise(\"No Cellphone/Unknown\"))"
   ]
  },
  {
   "cell_type": "code",
   "execution_count": 32,
   "metadata": {},
   "outputs": [
    {
     "name": "stdout",
     "output_type": "stream",
     "text": [
      "+--------------------+------+\n",
      "|       cellphone_use| count|\n",
      "+--------------------+------+\n",
      "|Cell Phone Not in...|113832|\n",
      "|No Cellphone/Unknown| 12256|\n",
      "|   Cell Phone in Use|   988|\n",
      "+--------------------+------+\n",
      "\n"
     ]
    }
   ],
   "source": [
    "parties_clean.groupBy('cellphone_use').count().orderBy('count', ascending=False).show()"
   ]
  },
  {
   "cell_type": "markdown",
   "metadata": {},
   "source": [
    "## 3.3 Construct the data/ Deriving a New Feature"
   ]
  },
  {
   "cell_type": "code",
   "execution_count": 33,
   "metadata": {},
   "outputs": [],
   "source": [
    "from pyspark.sql.functions import unix_timestamp, from_unixtime\n",
    "date_test = collision_clean.withColumn('formatted_date',\n",
    "            from_unixtime(unix_timestamp('collision_date', 'dd/MM/yyyy')))"
   ]
  },
  {
   "cell_type": "code",
   "execution_count": 34,
   "metadata": {},
   "outputs": [
    {
     "name": "stdout",
     "output_type": "stream",
     "text": [
      "+--------------+-------------------+-----+\n",
      "|collision_date|     formatted_date|month|\n",
      "+--------------+-------------------+-----+\n",
      "|    18/01/2015|2015-01-18 00:00:00|    1|\n",
      "|    18/02/2015|2015-02-18 00:00:00|    2|\n",
      "|    19/02/2015|2015-02-19 00:00:00|    2|\n",
      "|    20/02/2015|2015-02-20 00:00:00|    2|\n",
      "|    20/02/2015|2015-02-20 00:00:00|    2|\n",
      "|    23/02/2015|2015-02-23 00:00:00|    2|\n",
      "|    24/02/2015|2015-02-24 00:00:00|    2|\n",
      "|    28/02/2015|2015-02-28 00:00:00|    2|\n",
      "|     1/02/2015|2015-02-01 00:00:00|    2|\n",
      "|    15/02/2015|2015-02-15 00:00:00|    2|\n",
      "|    20/02/2015|2015-02-20 00:00:00|    2|\n",
      "|    20/02/2015|2015-02-20 00:00:00|    2|\n",
      "|    18/03/2015|2015-03-18 00:00:00|    3|\n",
      "|    12/03/2015|2015-03-12 00:00:00|    3|\n",
      "|    15/03/2015|2015-03-15 00:00:00|    3|\n",
      "|    10/01/2015|2015-01-10 00:00:00|    1|\n",
      "|    15/03/2015|2015-03-15 00:00:00|    3|\n",
      "|    17/03/2015|2015-03-17 00:00:00|    3|\n",
      "|    11/04/2015|2015-04-11 00:00:00|    4|\n",
      "|    20/04/2015|2015-04-20 00:00:00|    4|\n",
      "+--------------+-------------------+-----+\n",
      "only showing top 20 rows\n",
      "\n"
     ]
    }
   ],
   "source": [
    "from pyspark.sql.functions import month\n",
    "\n",
    "month_test = date_test.withColumn('month',month(date_test.formatted_date))\n",
    "month_test.select(\"collision_date\",\"formatted_date\",\"month\").show()"
   ]
  },
  {
   "cell_type": "code",
   "execution_count": 35,
   "metadata": {},
   "outputs": [
    {
     "name": "stdout",
     "output_type": "stream",
     "text": [
      "+--------------+-------------------+-----+------+\n",
      "|collision_date|     formatted_date|month|season|\n",
      "+--------------+-------------------+-----+------+\n",
      "|    18/01/2015|2015-01-18 00:00:00|    1|winter|\n",
      "|    18/02/2015|2015-02-18 00:00:00|    2|winter|\n",
      "|    19/02/2015|2015-02-19 00:00:00|    2|winter|\n",
      "|    20/02/2015|2015-02-20 00:00:00|    2|winter|\n",
      "|    20/02/2015|2015-02-20 00:00:00|    2|winter|\n",
      "|    23/02/2015|2015-02-23 00:00:00|    2|winter|\n",
      "|    24/02/2015|2015-02-24 00:00:00|    2|winter|\n",
      "|    28/02/2015|2015-02-28 00:00:00|    2|winter|\n",
      "|     1/02/2015|2015-02-01 00:00:00|    2|winter|\n",
      "|    15/02/2015|2015-02-15 00:00:00|    2|winter|\n",
      "|    20/02/2015|2015-02-20 00:00:00|    2|winter|\n",
      "|    20/02/2015|2015-02-20 00:00:00|    2|winter|\n",
      "|    18/03/2015|2015-03-18 00:00:00|    3|spring|\n",
      "|    12/03/2015|2015-03-12 00:00:00|    3|spring|\n",
      "|    15/03/2015|2015-03-15 00:00:00|    3|spring|\n",
      "|    10/01/2015|2015-01-10 00:00:00|    1|winter|\n",
      "|    15/03/2015|2015-03-15 00:00:00|    3|spring|\n",
      "|    17/03/2015|2015-03-17 00:00:00|    3|spring|\n",
      "|    11/04/2015|2015-04-11 00:00:00|    4|spring|\n",
      "|    20/04/2015|2015-04-20 00:00:00|    4|spring|\n",
      "+--------------+-------------------+-----+------+\n",
      "only showing top 20 rows\n",
      "\n"
     ]
    }
   ],
   "source": [
    "month_test = month_test.withColumn(\"season\", when((col(\"month\") == 12) | (col(\"month\") < 3),\"winter\") \\\n",
    "      .when((col(\"month\") >= 3) & (col(\"month\") < 6) ,\"spring\") \\\n",
    "      .when((col(\"month\") >= 6) & (col(\"month\") < 9),\"summer\") \\\n",
    "      .otherwise(\"autumn\"))\n",
    "month_test.select(\"collision_date\",\"formatted_date\",\"month\",\"season\").show()"
   ]
  },
  {
   "cell_type": "code",
   "execution_count": null,
   "metadata": {},
   "outputs": [],
   "source": [
    "month_test.groupBy('season').count().orderBy('count', ascending=False).show()\n",
    "month_test.printSchema()"
   ]
  },
  {
   "cell_type": "code",
   "execution_count": null,
   "metadata": {},
   "outputs": [],
   "source": [
    "collision_clean = month_test"
   ]
  },
  {
   "cell_type": "code",
   "execution_count": null,
   "metadata": {},
   "outputs": [],
   "source": [
    "#save to csv files\n",
    "#collision_clean.write.csv('collision_clean.csv')\n",
    "#parties_clean.write.csv('parties_clean.csv')"
   ]
  },
  {
   "cell_type": "code",
   "execution_count": null,
   "metadata": {},
   "outputs": [],
   "source": [
    "print(str(collision_clean.count()))\n",
    "print(str(len(collision_clean.columns)))\n",
    "print(str(parties_clean.count()))\n",
    "print(str(len(parties_clean.columns)))"
   ]
  },
  {
   "cell_type": "markdown",
   "metadata": {},
   "source": [
    "## 3.4 Integrate various data sources"
   ]
  },
  {
   "cell_type": "code",
   "execution_count": null,
   "metadata": {},
   "outputs": [],
   "source": [
    "join_table = collision_clean.join(parties_clean, \"case_id\")\n",
    "print(str(join_table.count()))\n",
    "print(str(len(join_table.columns)))"
   ]
  },
  {
   "cell_type": "code",
   "execution_count": null,
   "metadata": {},
   "outputs": [],
   "source": [
    "join_table.show()\n",
    "join_table.write.csv('join_table.csv',header=True)"
   ]
  }
 ],
 "metadata": {
  "kernelspec": {
   "display_name": "Python 3",
   "language": "python",
   "name": "python3"
  },
  "language_info": {
   "codemirror_mode": {
    "name": "ipython",
    "version": 3
   },
   "file_extension": ".py",
   "mimetype": "text/x-python",
   "name": "python",
   "nbconvert_exporter": "python",
   "pygments_lexer": "ipython3",
   "version": "3.5.2"
  }
 },
 "nbformat": 4,
 "nbformat_minor": 2
}
